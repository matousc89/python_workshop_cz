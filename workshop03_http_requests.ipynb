{
 "cells": [
  {
   "cell_type": "markdown",
   "metadata": {},
   "source": [
    "# HTTP requests\n",
    "Doporučené podklady k dalšímu studiu:\n",
    "* <a href=\"https://en.wikipedia.org/wiki/Hypertext_Transfer_Protocol\">Hypertext Transfer Protocol (HTTP)</a>\n",
    "* <a href=\"https://en.wikipedia.org/wiki/JSON\">JavaScript Object Notation (JSON)</a>\n",
    "* <a href=\"https://en.wikipedia.org/wiki/HTML\">HyperText Markup Language (HTML)</a>\n",
    "\n",
    "V tomto tutoriálu se pracuje pouze se statickým obsahem webových stránek. Pokud potřebujete získat z webu obsah rednerovaný pomocí javascriptu, podívejte se na: <a href=\"http://selenium-python.readthedocs.io/\">Selenium Python Bindings</a>.\n",
    "\n",
    "## Získání HTML obsahu pomocí HTTP\n",
    "### Urlib knihovna\n",
    "<a href=\"https://docs.python.org/3.4/library/urllib.html?highlight=urllib\">Urllib</a> je standardní knihovna obsažená v Pythonu. Příklad následuje:"
   ]
  },
  {
   "cell_type": "code",
   "execution_count": 1,
   "metadata": {},
   "outputs": [
    {
     "name": "stdout",
     "output_type": "stream",
     "text": [
      "Status code: 200\n"
     ]
    }
   ],
   "source": [
    "from urllib.request import urlopen\n",
    "\n",
    "r = urlopen('http://www.python.org/')\n",
    "data = r.read()\n",
    "\n",
    "print(\"Status code:\", r.getcode())"
   ]
  },
  {
   "cell_type": "markdown",
   "metadata": {},
   "source": [
    "Kompletní html data (jako string) je obsažené v proměnné `data`.\n",
    "\n",
    "### Knihovna Requests\n",
    "<a href=\"http://docs.python-requests.org/en/master/\">Requests</a> je knihovna instalovatelná pomocí PIP:\n",
    "\n",
    "`pip install requests`\n"
   ]
  },
  {
   "cell_type": "code",
   "execution_count": 2,
   "metadata": {},
   "outputs": [
    {
     "name": "stdout",
     "output_type": "stream",
     "text": [
      "Status code: 200\n"
     ]
    }
   ],
   "source": [
    "import requests\n",
    "\n",
    "r = requests.get(\"http://www.python.org/\")\n",
    "data = r.text\n",
    "\n",
    "print(\"Status code:\", r.status_code)"
   ]
  },
  {
   "cell_type": "markdown",
   "metadata": {},
   "source": [
    "## Získání JSON dat z API\n",
    "Následuje příklad stažení dat z open-notify ve formátu JSON."
   ]
  },
  {
   "cell_type": "code",
   "execution_count": 3,
   "metadata": {},
   "outputs": [
    {
     "name": "stdout",
     "output_type": "stream",
     "text": [
      "{'iss_position': {'latitude': '-4.1696', 'longitude': '-155.3349'}, 'timestamp': 1556198770, 'message': 'success'}\n"
     ]
    }
   ],
   "source": [
    "import requests\n",
    "\n",
    "r = requests.get(\"http://api.open-notify.org/iss-now.json\")\n",
    "obj = r.json()\n",
    "\n",
    "print(obj)"
   ]
  },
  {
   "cell_type": "markdown",
   "metadata": {},
   "source": [
    "## Session pomocí requests\n",
    "Requests umožňují vytvořit Session, v ktré mohou být uloženy cookies pro pozdější requesty."
   ]
  },
  {
   "cell_type": "code",
   "execution_count": 4,
   "metadata": {},
   "outputs": [
    {
     "name": "stdout",
     "output_type": "stream",
     "text": [
      "No cookies on start: \n",
      "{}\n",
      "\n",
      "A cookie from google: \n",
      "{'1P_JAR': '2019-04-25-13', 'NID': '182=dLL-JNQ2WaKhXOzGZEpy0bNpT1NJSjqNUemcEuRRZ6OrQoht0HzlPcN9bcBl8RTfH21J1AmM2iTAZdKnESWEPQY6iEVpSzCTvGM_trGk5qSVLHMFcQxgVo61ncdCK8IzRIq3ylsjLHNn512nQvb4UqNRQQ6Ab3IBVkebvVpLHDQ'}\n",
      "\n",
      "The cookie is perstent:\n",
      "{'1P_JAR': '2019-04-25-13', 'NID': '182=p7MO7QkX3MsIJkB45aDbM5nljDsTweAiVCsSc_ljljEY_1FrTxCAqx6Mwr2iYF01bHXF2p4rQYmdy_8vZtLc-CacB2P4ddAOlEBCrtU4JE_UdxUPnMpBgXWfgJi1J8FUE9dJsyr-DEhgT2FkUVWM_wMTzXFgirqTfgURJAmBSUM'}\n"
     ]
    }
   ],
   "source": [
    "s = requests.Session()\n",
    "print(\"No cookies on start: \")\n",
    "print(dict(s.cookies))\n",
    "r = s.get('http://google.cz/')\n",
    "print(\"\\nA cookie from google: \")\n",
    "print(dict(s.cookies))\n",
    "r = s.get('http://google.cz/?q=cat')\n",
    "print(\"\\nThe cookie is perstent:\")\n",
    "print(dict(s.cookies))"
   ]
  },
  {
   "cell_type": "markdown",
   "metadata": {},
   "source": [
    "Pro srovnání stejný příklad bez Session následuje."
   ]
  },
  {
   "cell_type": "code",
   "execution_count": 5,
   "metadata": {},
   "outputs": [
    {
     "name": "stdout",
     "output_type": "stream",
     "text": [
      "\n",
      "A cookie from google: \n",
      "{'1P_JAR': '2019-04-25-13', 'NID': '182=LSmyhvvteZVKn5hNTbAV76-BKAuSgRVKkkr0TYSqTqtWTRNCs44KQsNZvWRgLDEUWmgroU7fc7OU_pIFYGU_bUfx3Wy8VdE7j6umCBnNJnXqSOQYTxFACNUnudXmwQxZliUPaM6YITQDUkIJFoOwRttd9VV7d8LUWAMiy1YQeSw'}\n",
      "\n",
      "Different cookie:\n",
      "{'1P_JAR': '2019-04-25-13', 'NID': '182=CPoffdfMNxHds8CBApwDkeASPq0Y6JmaLrYRUf9NoOoJ4Nx-4ghghmX6aA8TOPWBedxE3z6MmGoj2-SkfNRxvJTSBBrekog46OyjpmjU4DEuukO596TV6OWU1ph8umJs_Raw_ftWB-Rm2A8rf63VQ3PdzKn4s3_8528WBUyKBuk'}\n"
     ]
    }
   ],
   "source": [
    "r = requests.get('http://google.cz/')\n",
    "print(\"\\nA cookie from google: \")\n",
    "print(dict(r.cookies))\n",
    "r = requests.get('http://google.cz/?q=cat')\n",
    "print(\"\\nDifferent cookie:\")\n",
    "print(dict(r.cookies))"
   ]
  },
  {
   "cell_type": "markdown",
   "metadata": {},
   "source": [
    "## Nastavení vlastních headers"
   ]
  },
  {
   "cell_type": "code",
   "execution_count": null,
   "metadata": {},
   "outputs": [],
   "source": [
    "r = requests.get(\"http://www.python.org/\")\n",
    "print(r.headers)"
   ]
  },
  {
   "cell_type": "code",
   "execution_count": 7,
   "metadata": {},
   "outputs": [
    {
     "name": "stdout",
     "output_type": "stream",
     "text": [
      "200\n"
     ]
    }
   ],
   "source": [
    "headers = {\n",
    "    \"Accept\": \"text/plain\",\n",
    "}\n",
    "\n",
    "r = requests.get(\"http://www.python.org/\", headers=headers)\n",
    "print(r.status_code)"
   ]
  },
  {
   "cell_type": "markdown",
   "metadata": {},
   "source": [
    "Více informací o HTTP headers: <a href=\"https://en.wikipedia.org/wiki/List_of_HTTP_header_fields\">List of HTTP header fields wikipedia page</a>."
   ]
  },
  {
   "cell_type": "markdown",
   "metadata": {},
   "source": [
    "## Stažení a uložení obrázku"
   ]
  },
  {
   "cell_type": "code",
   "execution_count": null,
   "metadata": {},
   "outputs": [],
   "source": [
    "url = \"https://upload.wikimedia.org/wikipedia/commons/thumb/0/08/South_Shetland-2016-Deception_Island%E2%80%93Chinstrap_penguin_%28Pygoscelis_antarctica%29_04.jpg/220px-South_Shetland-2016-Deception_Island%E2%80%93Chinstrap_penguin_%28Pygoscelis_antarctica%29_04.jpg\"\n",
    "\n",
    "r = requests.get(url)\n",
    "\n",
    "# with open(\"image.jpg\", \"wb\") as f:\n",
    "#     f.write(r.content)"
   ]
  }
 ],
 "metadata": {
  "kernelspec": {
   "display_name": "Python 3",
   "language": "python",
   "name": "python3"
  },
  "language_info": {
   "codemirror_mode": {
    "name": "ipython",
    "version": 3
   },
   "file_extension": ".py",
   "mimetype": "text/x-python",
   "name": "python",
   "nbconvert_exporter": "python",
   "pygments_lexer": "ipython3",
   "version": "3.6.7"
  }
 },
 "nbformat": 4,
 "nbformat_minor": 1
}
