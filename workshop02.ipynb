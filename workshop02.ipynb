{
 "cells": [
  {
   "cell_type": "markdown",
   "metadata": {},
   "source": [
    "# Turnaj: kámen-nůžky-papír\n",
    "\n",
    "## Zadání\n",
    "Vyzkoušejte kdo by vyhrál z následujících hráčů turnaj ve hře kámen-nůžky-papír. Hráč je definován jménem a pak strategií (pravděpodobnosti co zahraje).\n",
    "\n",
    "Otestujte na velkem množství her."
   ]
  },
  {
   "cell_type": "code",
   "execution_count": 1,
   "metadata": {},
   "outputs": [],
   "source": [
    "# the task definition\n",
    "PLAYERS = {\n",
    "    #name : (rock, scissors, paper)\n",
    "    \"GTO\": (1/3., 1/3., 1/3,),\n",
    "    \"Geologist\": (0.8, 0.1, 0.1),\n",
    "    \"Tailor\": (0.1, 0.8, 0.1),\n",
    "    \"Academic\": (0.1, 0.1, 0.8),\n",
    "    \"Regular 1\": (0.3, 0.5, 0.2),\n",
    "    \"Regular 2\": (0.2, 0.6, 0.2),\n",
    "    \"Regular 3\": (0.5, 0.4, 0.1),\n",
    "}"
   ]
  },
  {
   "cell_type": "markdown",
   "metadata": {},
   "source": [
    "## Pravidla"
   ]
  },
  {
   "cell_type": "code",
   "execution_count": 2,
   "metadata": {},
   "outputs": [
    {
     "name": "stdout",
     "output_type": "stream",
     "text": [
      "0\n",
      "-1\n",
      "1\n"
     ]
    }
   ],
   "source": [
    "def apply_rules(hero, villain):\n",
    "    WINS = {\n",
    "        \"rock\": \"scissors\",\n",
    "        \"scissors\": \"paper\",\n",
    "        \"paper\": \"rock\",\n",
    "    }\n",
    "    if WINS[hero] == villain:\n",
    "        return 1\n",
    "    elif WINS[villain] == hero:\n",
    "        return -1\n",
    "    else:\n",
    "        return 0\n",
    "        \n",
    "TESTS = (\n",
    "    (\"rock\", \"rock\"),\n",
    "    (\"scissors\", \"rock\"),\n",
    "    (\"paper\", \"rock\"),\n",
    ")\n",
    "            \n",
    "for test in TESTS:\n",
    "    print(apply_rules(*test))"
   ]
  },
  {
   "cell_type": "markdown",
   "metadata": {},
   "source": [
    "## Model hráče"
   ]
  },
  {
   "cell_type": "code",
   "execution_count": 3,
   "metadata": {},
   "outputs": [],
   "source": [
    "import random\n",
    "\n",
    "class Player():\n",
    "    \n",
    "    def __init__(self, name, strategy):\n",
    "        self.name = name\n",
    "        self.choice = \"rock\"\n",
    "        self.strategy = strategy\n",
    "        self.wins = 0\n",
    "        self.losses = 0\n",
    "        self.win_rate = False\n",
    "\n",
    "    def update_score(self, value):\n",
    "        if value > 0:\n",
    "            self.wins += 1\n",
    "        elif value < 0:\n",
    "            self.losses += 1\n",
    "        if self.losses:\n",
    "            self.win_rate = self.wins / self.losses\n",
    "\n",
    "    def update(self, value, opponent):\n",
    "        self.update_score(value)\n",
    "        \n",
    "    def make_choice(self):\n",
    "        r = random.random()\n",
    "        if self.strategy[0] > r:\n",
    "            self.choice = \"rock\"\n",
    "        elif self.strategy[0] + self.strategy[1] > r:\n",
    "            self.choice = \"scissors\"\n",
    "        else:\n",
    "            self.choice = \"paper\"            \n",
    "        \n",
    "    def __str__(self):\n",
    "        return \"{}{}\\t{}\\t{}\\t{}\".format(self.name.ljust(15), round(self.win_rate, 3), self.wins, self.losses, self.strategy)\n",
    "    \n",
    "    def __repr__(self):\n",
    "        return self.__str__()"
   ]
  },
  {
   "cell_type": "markdown",
   "metadata": {},
   "source": [
    "## Turnaj"
   ]
  },
  {
   "cell_type": "code",
   "execution_count": 4,
   "metadata": {},
   "outputs": [
    {
     "name": "stdout",
     "output_type": "stream",
     "text": [
      "Geologist      1.376\t25035\t18190\t(0.8, 0.1, 0.1)\n",
      "Regular 3      1.138\t21028\t18476\t(0.5, 0.4, 0.1)\n",
      "GTO            1.008\t20195\t20036\t(0.3333333333333333, 0.3333333333333333, 0.3333333333333333)\n",
      "Regular 1      0.975\t19251\t19738\t(0.3, 0.5, 0.2)\n",
      "Regular 2      0.915\t18719\t20467\t(0.2, 0.6, 0.2)\n",
      "Academic       0.85\t21495\t25298\t(0.1, 0.1, 0.8)\n",
      "Tailor         0.838\t18166\t21684\t(0.1, 0.8, 0.1)\n"
     ]
    }
   ],
   "source": [
    "import itertools\n",
    "\n",
    "def full_round_robin(players):\n",
    "    matches = itertools.combinations(players, r=2)\n",
    "    for match in matches:\n",
    "        for p in match:\n",
    "            p.make_choice()        \n",
    "        p1, p2 = match\n",
    "        outcome = apply_rules(p1.choice, p2.choice)\n",
    "        p1.update(outcome, p2.name)\n",
    "        p2.update(-outcome, p1.name)    \n",
    "        \n",
    "players = []\n",
    "for key, value in PLAYERS.items():\n",
    "    p = Player(key, value)\n",
    "    players.append(p)\n",
    "    \n",
    "for _ in range(10000):    \n",
    "    full_round_robin(players)\n",
    "\n",
    "players.sort(key=lambda p: p.win_rate, reverse=True)\n",
    "for p in players:\n",
    "    print(p)\n"
   ]
  },
  {
   "cell_type": "markdown",
   "metadata": {},
   "source": [
    "## Průměrná strategie hráčů"
   ]
  },
  {
   "cell_type": "code",
   "execution_count": 5,
   "metadata": {},
   "outputs": [
    {
     "name": "stdout",
     "output_type": "stream",
     "text": [
      "[0.33333333333333337, 0.4047619047619047, 0.2619047619047619]\n"
     ]
    }
   ],
   "source": [
    "default = [0, 0, 0]\n",
    "for p in players:\n",
    "    default = [default[_] + p.strategy[_] for _ in range(3)]\n",
    "default = [_ / len(players) for _ in default]\n",
    "\n",
    "print(default)"
   ]
  },
  {
   "cell_type": "markdown",
   "metadata": {},
   "source": [
    "## Vylepšený hráč"
   ]
  },
  {
   "cell_type": "code",
   "execution_count": 6,
   "metadata": {},
   "outputs": [
    {
     "name": "stdout",
     "output_type": "stream",
     "text": [
      "(0, 0, 1)\n"
     ]
    }
   ],
   "source": [
    "class Hero(Player):\n",
    "    \n",
    "    def __init__(self, *args):\n",
    "        super().__init__(*args)\n",
    "        self.history = {\n",
    "            \"rock\": 0,\n",
    "            \"scissors\": 0,\n",
    "            \"paper\": 0,\n",
    "        }\n",
    "        \n",
    "    def update(self, value, opponent):\n",
    "        self.update_score(value)\n",
    "        WINS = {\n",
    "            \"rock\": \"scissors\",\n",
    "            \"scissors\": \"paper\",\n",
    "            \"paper\": \"rock\",\n",
    "        }\n",
    "        LOSS = {\n",
    "            \"rock\": \"paper\",\n",
    "            \"scissors\": \"rock\",\n",
    "            \"paper\": \"scissors\",\n",
    "        }\n",
    "        if value > 0:\n",
    "            key = WINS[self.choice]\n",
    "        elif value < 0:\n",
    "            key = LOSS[self.choice]\n",
    "        else:\n",
    "            key = self.choice\n",
    "        self.history[key] += 1\n",
    "        most_common = max(self.history, key=self.history.get)\n",
    "        if most_common == \"rock\":\n",
    "            self.strategy = (0, 0, 1)\n",
    "        elif most_common == \"scissors\":\n",
    "            self.strategy = (1, 0, 0)\n",
    "        else:\n",
    "            self.strategy = (0, 1, 0)\n",
    "          \n",
    "            \n",
    "h = Hero(\"Hero\", (1/3., 1/3., 1/3.))\n",
    "for _ in range(10):\n",
    "    h.update(0, \"Test\")\n",
    "    \n",
    "print(h.strategy)"
   ]
  },
  {
   "cell_type": "code",
   "execution_count": 7,
   "metadata": {},
   "outputs": [
    {
     "name": "stdout",
     "output_type": "stream",
     "text": [
      "Hero           1.538\t28087\t18260\t(1, 0, 0)\n",
      "Geologist      1.375\t26118\t18997\t(0.8, 0.1, 0.1)\n",
      "Academic       1.145\t29736\t25980\t(0.1, 0.1, 0.8)\n",
      "Regular 3      0.993\t22020\t22166\t(0.5, 0.4, 0.1)\n",
      "GTO            0.991\t23034\t23232\t(0.3333333333333333, 0.3333333333333333, 0.3333333333333333)\n",
      "Regular 1      0.846\t20976\t24797\t(0.3, 0.5, 0.2)\n",
      "Regular 2      0.765\t20409\t26669\t(0.2, 0.6, 0.2)\n",
      "Tailor         0.652\t19233\t29512\t(0.1, 0.8, 0.1)\n"
     ]
    }
   ],
   "source": [
    "players = []\n",
    "for key, value in PLAYERS.items():\n",
    "    p = Player(key, value)\n",
    "    players.append(p)\n",
    "   \n",
    "h = Hero(\"Hero\", (1/3., 1/3., 1/3.))\n",
    "players.append(h)\n",
    "    \n",
    "for _ in range(10000):    \n",
    "    full_round_robin(players)\n",
    "\n",
    "players.sort(key=lambda p: p.win_rate, reverse=True)\n",
    "for p in players:\n",
    "    print(p)"
   ]
  },
  {
   "cell_type": "code",
   "execution_count": 8,
   "metadata": {},
   "outputs": [
    {
     "name": "stdout",
     "output_type": "stream",
     "text": [
      "Hero1          1.062\t41309\t38907\t(0, 0, 1)\n",
      "Hero4          1.061\t40609\t38281\t(0, 0, 1)\n",
      "Academic       1.054\t39626\t37613\t(0.1, 0.1, 0.8)\n",
      "Geologist      1.001\t37799\t37779\t(0.8, 0.1, 0.1)\n",
      "Hero2          0.998\t38992\t39079\t(1, 0, 0)\n",
      "Hero0          0.994\t38760\t38991\t(1, 0, 0)\n",
      "GTO            0.989\t36436\t36829\t(0.3333333333333333, 0.3333333333333333, 0.3333333333333333)\n",
      "Regular 3      0.981\t36586\t37301\t(0.5, 0.4, 0.1)\n",
      "Regular 1      0.978\t36538\t37347\t(0.3, 0.5, 0.2)\n",
      "Regular 2      0.97\t36830\t37985\t(0.2, 0.6, 0.2)\n",
      "Tailor         0.959\t37806\t39403\t(0.1, 0.8, 0.1)\n",
      "Hero3          0.956\t38470\t40246\t(0, 0, 1)\n"
     ]
    }
   ],
   "source": [
    "players = []\n",
    "for key, value in PLAYERS.items():\n",
    "    p = Player(key, value)\n",
    "    players.append(p)\n",
    "\n",
    "for idx in range(5):\n",
    "    h = Hero(\"Hero\" + str(idx), (1/3., 1/3., 1/3.))\n",
    "    players.append(h)\n",
    "    \n",
    "for _ in range(10000):    \n",
    "    full_round_robin(players)\n",
    "\n",
    "players.sort(key=lambda p: p.win_rate, reverse=True)\n",
    "for p in players:\n",
    "    print(p)\n",
    "    "
   ]
  }
 ],
 "metadata": {
  "kernelspec": {
   "display_name": "Python 3",
   "language": "python",
   "name": "python3"
  },
  "language_info": {
   "codemirror_mode": {
    "name": "ipython",
    "version": 3
   },
   "file_extension": ".py",
   "mimetype": "text/x-python",
   "name": "python",
   "nbconvert_exporter": "python",
   "pygments_lexer": "ipython3",
   "version": "3.6.7"
  }
 },
 "nbformat": 4,
 "nbformat_minor": 2
}
