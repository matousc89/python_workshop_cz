{
 "cells": [
  {
   "cell_type": "markdown",
   "metadata": {},
   "source": [
    "# Zpracování HTML a JSON souborů\n",
    "\n",
    "Více informací o HTML a JSON najdete třeba na wikipedii:\n",
    "* <a href=\"https://en.wikipedia.org/wiki/JSON\">JavaScript Object Notation</a>\n",
    "* <a href=\"https://en.wikipedia.org/wiki/HTML\">HyperText Markup Language (HTML)</a>"
   ]
  },
  {
   "cell_type": "markdown",
   "metadata": {},
   "source": [
    "## SAX a DOM\n",
    "Dva základní přístupy k parsování souborů (používá se hlavně ve spojení s XML a JSON)\n",
    "\n",
    "* SAX (Simple API for XML) - skenování obsahu souborů za pochodu, nic se neskladuje do paměti\n",
    "\n",
    "* DOM (Document Object Model) - vytvoření stromové reprezentace obsahu v paměti\n",
    "\n",
    "\n",
    "## Základní podpora parsování HTML v Pythonu - HTMLParser "
   ]
  },
  {
   "cell_type": "code",
   "execution_count": 1,
   "metadata": {},
   "outputs": [],
   "source": [
    "sample_html =  \"\"\"\n",
    "<html>\n",
    "    <head>\n",
    "        <title>Test</title>\n",
    "    </head>\n",
    "    <body>\n",
    "        <h1>Heading!</h1>\n",
    "        <p class=\"major_content\">Some content.</p>\n",
    "        <p class=\"minor_content\">Some other content.</p>\n",
    "    </body>\n",
    "</html>\n",
    "\"\"\""
   ]
  },
  {
   "cell_type": "markdown",
   "metadata": {},
   "source": [
    "Následuje příklad jak prohledávat (parsovat) HTML výše:"
   ]
  },
  {
   "cell_type": "code",
   "execution_count": 2,
   "metadata": {},
   "outputs": [
    {
     "name": "stdout",
     "output_type": "stream",
     "text": [
      "Tag data: \n",
      "\n",
      "Tag start: html\n",
      "Tag data: \n",
      "    \n",
      "Tag start: head\n",
      "Tag data: \n",
      "        \n",
      "Tag start: title\n",
      "Tag data: Test\n",
      "Tag end: title\n",
      "Tag data: \n",
      "    \n",
      "Tag end: head\n",
      "Tag data: \n",
      "    \n",
      "Tag start: body\n",
      "Tag data: \n",
      "        \n",
      "Tag start: h1\n",
      "Tag data: Heading!\n",
      "Tag end: h1\n",
      "Tag data: \n",
      "        \n",
      "Tag start: p\n",
      "Tag data: Some content.\n",
      "Tag end: p\n",
      "Tag data: \n",
      "        \n",
      "Tag start: p\n",
      "Tag data: Some other content.\n",
      "Tag end: p\n",
      "Tag data: \n",
      "    \n",
      "Tag end: body\n",
      "Tag data: \n",
      "\n",
      "Tag end: html\n",
      "Tag data: \n",
      "\n"
     ]
    }
   ],
   "source": [
    "from html.parser import HTMLParser\n",
    "\n",
    "class TestHTMLParser(HTMLParser):\n",
    "    \n",
    "    def handle_starttag(self, tag, attrs):\n",
    "        print(\"Tag start:\", tag)\n",
    "\n",
    "    def handle_endtag(self, tag):\n",
    "        print(\"Tag end:\", tag)\n",
    "\n",
    "    def handle_data(self, data):\n",
    "        print(\"Tag data:\", data)\n",
    "    \n",
    "parser = TestHTMLParser(convert_charrefs=True)\n",
    "parser.feed(sample_html)"
   ]
  },
  {
   "cell_type": "markdown",
   "metadata": {},
   "source": [
    "Následuje příklad, kde je hledán pouze obsah paragrafu, který má atribut s hodnotou: `major_content`."
   ]
  },
  {
   "cell_type": "code",
   "execution_count": 3,
   "metadata": {},
   "outputs": [
    {
     "name": "stdout",
     "output_type": "stream",
     "text": [
      "Some content.\n"
     ]
    }
   ],
   "source": [
    "class Test2HTMLParser(HTMLParser):\n",
    "\n",
    "    def __init__(self):\n",
    "        HTMLParser.__init__(self, convert_charrefs=True)\n",
    "        self.recording = False\n",
    "    \n",
    "    def handle_starttag(self, tag, attrs):\n",
    "        if tag == \"p\" and \"major_content\" in dict(attrs).values():\n",
    "            self.recording = True\n",
    "\n",
    "    def handle_endtag(self, tag):\n",
    "        self.recording = False\n",
    "\n",
    "    def handle_data(self, data):\n",
    "        if self.recording:\n",
    "            print(data)\n",
    "\n",
    "parser2 = Test2HTMLParser()\n",
    "parser2.feed(sample_html)"
   ]
  },
  {
   "cell_type": "markdown",
   "metadata": {},
   "source": [
    "## DOM parsování pomocí ElementTree XML API\n",
    "\n",
    "Tento nástroj je určen pro XML, ale je možné ho využít i pro HTML. Není třeba instalovat."
   ]
  },
  {
   "cell_type": "code",
   "execution_count": 4,
   "metadata": {},
   "outputs": [
    {
     "name": "stdout",
     "output_type": "stream",
     "text": [
      "head\n",
      "\t title - Test\n",
      "body\n",
      "\t h1 - Heading!\n",
      "\t p - Some content.\n",
      "\t p - Some other content.\n"
     ]
    }
   ],
   "source": [
    "import xml.etree.ElementTree as ET\n",
    "\n",
    "tree = ET.fromstring(sample_html)\n",
    "\n",
    "for child1 in tree:\n",
    "    print(child1.tag)\n",
    "    for child2 in child1:\n",
    "        print(\"\\t\", child2.tag, \"-\", child2.text)"
   ]
  },
  {
   "cell_type": "markdown",
   "metadata": {},
   "source": [
    "Následuje příklad, kde je hledán pouze obsah paragrafu, který má atribut s hodnotou: `major_content`."
   ]
  },
  {
   "cell_type": "code",
   "execution_count": 5,
   "metadata": {},
   "outputs": [
    {
     "data": {
      "text/plain": [
       "'Some content.'"
      ]
     },
     "execution_count": 5,
     "metadata": {},
     "output_type": "execute_result"
    }
   ],
   "source": [
    "import xml.etree.ElementTree as ET\n",
    "\n",
    "tree = ET.fromstring(sample_html)\n",
    "        \n",
    "tree.findall(\"./body/p[@class='major_content']\")[0].text"
   ]
  },
  {
   "cell_type": "markdown",
   "metadata": {},
   "source": [
    "## BeautifulSoup knihovny pro parsování HTML\n",
    "BeautifulSoup je knihovna, kterou je možno považovat za standard pro parsování HTML v Pythonu. Knihovnu je možné instalovat přes PIP:\n",
    "\n",
    "`pip install bs4`"
   ]
  },
  {
   "cell_type": "code",
   "execution_count": 6,
   "metadata": {},
   "outputs": [
    {
     "name": "stdout",
     "output_type": "stream",
     "text": [
      "Example webpage! \n",
      "\n",
      "Alice Smith is 31 years old.\n",
      "Bob Stone is 38 years old.\n",
      "Narcissus Hyacinth is 34 years old.\n",
      "Adelmar Egino is 50 years old.\n"
     ]
    }
   ],
   "source": [
    "from bs4 import BeautifulSoup\n",
    "\n",
    "# path to data\n",
    "path = \"data/example1.html\"\n",
    "\n",
    "# template for printing the output\n",
    "sentence = \"{} {} is {} years old.\"\n",
    "\n",
    "# load data\n",
    "with open(path, 'r') as datafile:\n",
    "    sample_html = datafile.read()\n",
    "\n",
    "# create tree\n",
    "soup = BeautifulSoup(sample_html, \"html.parser\")\n",
    "\n",
    "# get title and print it\n",
    "title = soup.find(\"title\")\n",
    "print(title.text, \"\\n\")\n",
    "\n",
    "# select all rows in table\n",
    "table = soup.find(\"table\",  {\"id\": \"main_table\"})\n",
    "table_rows = table.findAll(\"tr\")  \n",
    "\n",
    "# iterate over table and print results\n",
    "for row in table_rows:\n",
    "    first_name = row.find(\"td\", {\"class\": \"first_name\"})\n",
    "    last_name = row.find(\"td\", {\"class\": \"last_name\"})\n",
    "    age = row.find(\"td\", {\"class\": \"age\"})\n",
    "    if first_name and last_name and age:\n",
    "        print(sentence.format(first_name.text, last_name.text, age.text))"
   ]
  },
  {
   "cell_type": "markdown",
   "metadata": {},
   "source": [
    "Atributy jednotlivých elemntů jsou přístupné následovně:"
   ]
  },
  {
   "cell_type": "code",
   "execution_count": 7,
   "metadata": {},
   "outputs": [
    {
     "name": "stdout",
     "output_type": "stream",
     "text": [
      "{'id': 'main_table'}\n"
     ]
    }
   ],
   "source": [
    "print(table.attrs)"
   ]
  },
  {
   "cell_type": "markdown",
   "metadata": {},
   "source": [
    "## Získání specifické části textu\n",
    "V případech kdy hledáme se souboru/textu jednu konkrétní informaci, tak není často nutné ho parsovat"
   ]
  },
  {
   "cell_type": "code",
   "execution_count": 8,
   "metadata": {},
   "outputs": [],
   "source": [
    "sample_html =  \"\"\"\n",
    "<html>\n",
    "    <head>\n",
    "        <title>Test</title>\n",
    "    </head>\n",
    "    <body>\n",
    "        <h1>Heading!</h1>\n",
    "        <p class=\"major_content\">Some content. And even more content.</p>\n",
    "        <p class=\"minor_content\">\n",
    "            Some other content.\n",
    "            Numbers related content.\n",
    "            The important information is, that the key number is 23.\n",
    "        </p>\n",
    "    </body>\n",
    "</html>\n",
    "\"\"\""
   ]
  },
  {
   "cell_type": "markdown",
   "metadata": {},
   "source": [
    "Následuje příklad: zjistit jaké číslo je ve větě `the key number is __.` kde `__` reprezentuje hledané číslo."
   ]
  },
  {
   "cell_type": "code",
   "execution_count": 9,
   "metadata": {},
   "outputs": [
    {
     "name": "stdout",
     "output_type": "stream",
     "text": [
      " 23\n"
     ]
    }
   ],
   "source": [
    "# unclean way\n",
    "target_start = sample_html.find(\"the key number is \") + len(\"the key number is\")\n",
    "target_end = sample_html[target_start:].find(\".\") + target_start\n",
    "print(sample_html[target_start:target_end])"
   ]
  },
  {
   "cell_type": "markdown",
   "metadata": {},
   "source": [
    "Lepší možnost je použít regex <a href= https://docs.python.org/2/library/re.html>Regex</a>."
   ]
  },
  {
   "cell_type": "code",
   "execution_count": 10,
   "metadata": {},
   "outputs": [
    {
     "name": "stdout",
     "output_type": "stream",
     "text": [
      "23\n"
     ]
    }
   ],
   "source": [
    "# much beter way (with regex)\n",
    "import re\n",
    "print(re.search('the key number is (.*).', sample_html).group(1))"
   ]
  },
  {
   "cell_type": "markdown",
   "metadata": {},
   "source": [
    "## Práce s JSON v Pythonu\n",
    "V Pythonu je knihovna JSON, která umožňuje převod pythonních struktur do a z JSON textu.\n",
    "\n",
    "### Z Pythonu do JSONu"
   ]
  },
  {
   "cell_type": "code",
   "execution_count": 11,
   "metadata": {},
   "outputs": [
    {
     "name": "stdout",
     "output_type": "stream",
     "text": [
      "<class 'str'>\n",
      "[{\"time\": 123, \"value\": 5}, {\"time\": 124, \"value\": 6}, {\"status\": \"ok\", \"finish\": [true, false, false]}]\n"
     ]
    }
   ],
   "source": [
    "import json\n",
    "\n",
    "# sample data\n",
    "message = [\n",
    "    {\"time\": 123, \"value\": 5},\n",
    "    {\"time\": 124, \"value\": 6},\n",
    "    {\"status\": \"ok\", \"finish\": [True, False, False]}, \n",
    "]\n",
    "\n",
    "# pack message as json\n",
    "js_message = json.dumps(message)\n",
    "\n",
    "# show result\n",
    "print(type(js_message))\n",
    "print(js_message)"
   ]
  },
  {
   "cell_type": "markdown",
   "metadata": {},
   "source": [
    "### Z JSONu do Pythonu"
   ]
  },
  {
   "cell_type": "code",
   "execution_count": 12,
   "metadata": {},
   "outputs": [
    {
     "name": "stdout",
     "output_type": "stream",
     "text": [
      "<class 'list'>\n",
      "[{'time': 123, 'value': 5}, {'time': 124, 'value': 6}, {'status': 'ok', 'finish': [True, False, False]}]\n"
     ]
    }
   ],
   "source": [
    "# unpack message\n",
    "message = json.loads(js_message)\n",
    "\n",
    "# show result\n",
    "print(type(message))\n",
    "print(message)"
   ]
  }
 ],
 "metadata": {
  "kernelspec": {
   "display_name": "Python 3",
   "language": "python",
   "name": "python3"
  },
  "language_info": {
   "codemirror_mode": {
    "name": "ipython",
    "version": 3
   },
   "file_extension": ".py",
   "mimetype": "text/x-python",
   "name": "python",
   "nbconvert_exporter": "python",
   "pygments_lexer": "ipython3",
   "version": "3.6.7"
  }
 },
 "nbformat": 4,
 "nbformat_minor": 1
}
