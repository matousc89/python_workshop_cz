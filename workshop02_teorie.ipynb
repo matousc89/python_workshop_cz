{
 "cells": [
  {
   "cell_type": "markdown",
   "metadata": {},
   "source": [
    "# Python základy 2 - základy OOP\n",
    "*Pokud potřebujete něco udělat více jak jednou, vytvořte si na to funkci.*\n",
    "\n",
    "Poznámka: ve funkcích a třídách je zvykem používat komentáře, které popisují funkci celé třídy (namísto řádkových komentářů):"
   ]
  },
  {
   "cell_type": "code",
   "execution_count": 1,
   "metadata": {},
   "outputs": [],
   "source": [
    "\"\"\"\n",
    "This is really\n",
    "long and multiline\n",
    "comment describing the following code.\n",
    "\n",
    "Variable \"a\" is crated and filled with integer value 1\n",
    "\"\"\"\n",
    "a = 1"
   ]
  },
  {
   "cell_type": "markdown",
   "metadata": {},
   "source": [
    "## Funkce\n",
    "Funkce bez argumentů, která nic nevrací následuje."
   ]
  },
  {
   "cell_type": "code",
   "execution_count": 2,
   "metadata": {},
   "outputs": [
    {
     "name": "stdout",
     "output_type": "stream",
     "text": [
      "Something!\n"
     ]
    }
   ],
   "source": [
    "def print_something():\n",
    "    print(\"Something!\")\n",
    "    \n",
    "print_something()"
   ]
  },
  {
   "cell_type": "markdown",
   "metadata": {},
   "source": [
    "Opět stejná funkce, ale s komentářem."
   ]
  },
  {
   "cell_type": "code",
   "execution_count": 3,
   "metadata": {},
   "outputs": [
    {
     "name": "stdout",
     "output_type": "stream",
     "text": [
      "Something!\n"
     ]
    }
   ],
   "source": [
    "def print_something():\n",
    "    \"\"\"\n",
    "    This function print string \"Something\", does not return anything\n",
    "    and does not accept any argument.\n",
    "    \"\"\"\n",
    "    print(\"Something!\")\n",
    "    \n",
    "print_something()"
   ]
  },
  {
   "cell_type": "markdown",
   "metadata": {},
   "source": [
    "Funkce bez argumentů, která něco vrací následuje."
   ]
  },
  {
   "cell_type": "code",
   "execution_count": 4,
   "metadata": {},
   "outputs": [
    {
     "name": "stdout",
     "output_type": "stream",
     "text": [
      "Something!\n"
     ]
    }
   ],
   "source": [
    "def return_something():\n",
    "    return \"Something!\"\n",
    "\n",
    "output = return_something()\n",
    "print(output)"
   ]
  },
  {
   "cell_type": "code",
   "execution_count": 5,
   "metadata": {},
   "outputs": [
    {
     "name": "stdout",
     "output_type": "stream",
     "text": [
      "1 2 3\n",
      "(1, 2, 3)\n"
     ]
    }
   ],
   "source": [
    "def return_multiple_items():\n",
    "    return 1, 2, 3\n",
    "\n",
    "a, b, c = return_multiple_items()\n",
    "d = return_multiple_items()\n",
    "print(a, b, c)\n",
    "print(d)"
   ]
  },
  {
   "cell_type": "markdown",
   "metadata": {},
   "source": [
    "Funkce která vyžaduje argument (parametr):"
   ]
  },
  {
   "cell_type": "code",
   "execution_count": 6,
   "metadata": {},
   "outputs": [
    {
     "name": "stdout",
     "output_type": "stream",
     "text": [
      "Something and the Truly awesome argument\n"
     ]
    }
   ],
   "source": [
    "def return_something_and_argument(arg):\n",
    "    return \"Something and the \" + str(arg)\n",
    "\n",
    "output = return_something_and_argument(\"Truly awesome argument\")\n",
    "print(output)"
   ]
  },
  {
   "cell_type": "markdown",
   "metadata": {},
   "source": [
    "Funkce s více argumenty."
   ]
  },
  {
   "cell_type": "code",
   "execution_count": 7,
   "metadata": {},
   "outputs": [
    {
     "name": "stdout",
     "output_type": "stream",
     "text": [
      "3\n"
     ]
    }
   ],
   "source": [
    "def add_two_args_together(a, b):\n",
    "    return a + b\n",
    "\n",
    "output = add_two_args_together(1, 2)\n",
    "print(output)"
   ]
  },
  {
   "cell_type": "markdown",
   "metadata": {},
   "source": [
    "Funkce s volitelným (klíčovým argumentem - key argument):"
   ]
  },
  {
   "cell_type": "code",
   "execution_count": 8,
   "metadata": {},
   "outputs": [
    {
     "name": "stdout",
     "output_type": "stream",
     "text": [
      "Something!\n",
      "Something else!\n",
      "Nothing!\n"
     ]
    }
   ],
   "source": [
    "def function_with_kwarg(kwarg=\"Nothing!\"):\n",
    "    print(kwarg)\n",
    "    \n",
    "function_with_kwarg(\"Something!\")\n",
    "function_with_kwarg(kwarg=\"Something else!\")\n",
    "function_with_kwarg()"
   ]
  },
  {
   "cell_type": "markdown",
   "metadata": {},
   "source": [
    "Funkce s nutnými i volitelnými argumenty a předčasným návratem:"
   ]
  },
  {
   "cell_type": "code",
   "execution_count": 9,
   "metadata": {},
   "outputs": [
    {
     "name": "stdout",
     "output_type": "stream",
     "text": [
      "2 4 8 8 4\n"
     ]
    }
   ],
   "source": [
    "def complete_function(a, b, c=-1, double=False, square=False):\n",
    "    total = a + b + c\n",
    "    if double:\n",
    "        total *= 2\n",
    "    if square:\n",
    "        return total ** 2\n",
    "    return total\n",
    "\n",
    "a = complete_function(1, 2)\n",
    "b = complete_function(1, 2, 1)\n",
    "c = complete_function(1, 2, 1, True)\n",
    "d = complete_function(1, 2, 1, True, False)\n",
    "e = complete_function(1, 2, 1, square=False)\n",
    "print(a, b, c, d ,e)"
   ]
  },
  {
   "cell_type": "markdown",
   "metadata": {},
   "source": [
    "Argumenty můžou být předány najednou v jedné proměnné pomocí hvězdičkové notace:"
   ]
  },
  {
   "cell_type": "code",
   "execution_count": 10,
   "metadata": {},
   "outputs": [
    {
     "name": "stdout",
     "output_type": "stream",
     "text": [
      "(1, 2, 3, 4)\n",
      "1 2 3 4\n"
     ]
    }
   ],
   "source": [
    "args = (1, 2, 3, 4)\n",
    "print(args)\n",
    "print(*args)"
   ]
  },
  {
   "cell_type": "code",
   "execution_count": 11,
   "metadata": {},
   "outputs": [
    {
     "name": "stdout",
     "output_type": "stream",
     "text": [
      "1blabla"
     ]
    }
   ],
   "source": [
    "kwargs = {\"end\": \"blabla\"}\n",
    "print(1, **kwargs)\n"
   ]
  },
  {
   "cell_type": "markdown",
   "metadata": {},
   "source": [
    "Pomocí hvězdičkové notace mohou být argumenty ve funkci i odchyceny:"
   ]
  },
  {
   "cell_type": "code",
   "execution_count": 12,
   "metadata": {},
   "outputs": [
    {
     "name": "stdout",
     "output_type": "stream",
     "text": [
      "1\n",
      "1\n"
     ]
    }
   ],
   "source": [
    "def f1(*args):\n",
    "    return args[0]\n",
    "\n",
    "print(f1(1, 2, 3))\n",
    "print(f1(1))"
   ]
  },
  {
   "cell_type": "markdown",
   "metadata": {},
   "source": [
    "## Třídy"
   ]
  },
  {
   "cell_type": "code",
   "execution_count": 13,
   "metadata": {},
   "outputs": [
    {
     "name": "stdout",
     "output_type": "stream",
     "text": [
      "<__main__.Student object at 0x7fd9d416ecc0>\n"
     ]
    }
   ],
   "source": [
    "class Student():\n",
    "    pass\n",
    "\n",
    "s = Student()\n",
    "print(s)"
   ]
  },
  {
   "cell_type": "code",
   "execution_count": 14,
   "metadata": {},
   "outputs": [
    {
     "name": "stdout",
     "output_type": "stream",
     "text": [
      "a + b = c\n"
     ]
    }
   ],
   "source": [
    "class Student():\n",
    "    \n",
    "    def learn(self, information):\n",
    "        self.information = information\n",
    "        \n",
    "s = Student()\n",
    "s.learn(\"a + b = c\")\n",
    "print(s.information)"
   ]
  },
  {
   "cell_type": "code",
   "execution_count": 15,
   "metadata": {},
   "outputs": [
    {
     "name": "stdout",
     "output_type": "stream",
     "text": [
      "[]\n",
      "That is boring!\n",
      "That is boring!\n",
      "['abc', 'Biology']\n"
     ]
    }
   ],
   "source": [
    "class Student():\n",
    "    \n",
    "    def __init__(self):\n",
    "        self.memory = []\n",
    "        \n",
    "    def learn(self, information):\n",
    "        self.memory.append(information)\n",
    "        self.complain()\n",
    "        \n",
    "    def complain(self):\n",
    "        print(\"That is boring!\")\n",
    "\n",
    "s = Student()\n",
    "print(s.memory)\n",
    "s.learn(\"abc\")\n",
    "s.learn(\"Biology\")\n",
    "print(s.memory)"
   ]
  },
  {
   "cell_type": "code",
   "execution_count": 16,
   "metadata": {},
   "outputs": [
    {
     "name": "stdout",
     "output_type": "stream",
     "text": [
      "[10, 11, 12, 13, 14, 15, 16, 17, 18, 19]\n"
     ]
    }
   ],
   "source": [
    "class Student():\n",
    "    \n",
    "    def __init__(self):\n",
    "        self.memory = []\n",
    "        \n",
    "    def learn(self, information):\n",
    "        self.memory.append(information)\n",
    "        if len(self.memory) > 10:\n",
    "            self.forget_something()\n",
    "        \n",
    "    def forget_something(self):\n",
    "        del self.memory[0]\n",
    "        \n",
    "        \n",
    "s = Student()\n",
    "\n",
    "for k in range(20):\n",
    "    s.learn(k)\n",
    "\n",
    "print(s.memory)"
   ]
  },
  {
   "cell_type": "code",
   "execution_count": 17,
   "metadata": {},
   "outputs": [
    {
     "name": "stdout",
     "output_type": "stream",
     "text": [
      "Alice knows: [5, 6, 7, 8, 9]\n",
      "Bob knows: [7, 8, 9]\n",
      "Chris knows: [8, 9]\n"
     ]
    }
   ],
   "source": [
    "class Student():\n",
    "    \n",
    "    def __init__(self, name, memory_cap):\n",
    "        self.name = name\n",
    "        self.memory_cap = memory_cap\n",
    "        self.memory = []\n",
    "        \n",
    "    def learn(self, information):\n",
    "        self.memory.append(information)\n",
    "        if len(self.memory) > self.memory_cap:\n",
    "            self.forget_something()\n",
    "        \n",
    "    def forget_something(self):\n",
    "        del self.memory[0]\n",
    "        \n",
    "    def show_knowledge(self):\n",
    "        return self.memory\n",
    "\n",
    "student_cv = {\n",
    "    \"Alice\" : 5,\n",
    "    \"Bob\": 3,\n",
    "    \"Chris\": 2,\n",
    "}\n",
    "\n",
    "students = [Student(name, memory) for name, memory in student_cv.items()]\n",
    "\n",
    "# learng stuff\n",
    "for student in students:\n",
    "    for k in range(10):\n",
    "        student.learn(k)\n",
    "\n",
    "# exam\n",
    "for student in students:\n",
    "    print(student.name, \"knows:\", student.show_knowledge())        "
   ]
  },
  {
   "cell_type": "markdown",
   "metadata": {},
   "source": [
    "## Dědičnost"
   ]
  },
  {
   "cell_type": "code",
   "execution_count": 18,
   "metadata": {},
   "outputs": [
    {
     "name": "stdout",
     "output_type": "stream",
     "text": [
      "KIND, __class__, __delattr__, __dict__, __dir__, __doc__, __eq__, __format__, __ge__, __getattribute__, __gt__, __hash__, __init__, __init_subclass__, __le__, __lt__, __module__, __ne__, __new__, __reduce__, __reduce_ex__, __repr__, __setattr__, __sizeof__, __str__, __subclasshook__, __weakref__, attack, chase_mouse, name, print_status, status, walk\n",
      "KIND, __class__, __delattr__, __dict__, __dir__, __doc__, __eq__, __format__, __ge__, __getattribute__, __gt__, __hash__, __init__, __init_subclass__, __le__, __lt__, __module__, __ne__, __new__, __reduce__, __reduce_ex__, __repr__, __setattr__, __sizeof__, __str__, __subclasshook__, __weakref__, eat_cheese, hide, name, print_status, status, walk\n",
      "KIND, __class__, __delattr__, __dict__, __dir__, __doc__, __eq__, __format__, __ge__, __getattribute__, __gt__, __hash__, __init__, __init_subclass__, __le__, __lt__, __module__, __ne__, __new__, __reduce__, __reduce_ex__, __repr__, __setattr__, __sizeof__, __str__, __subclasshook__, __weakref__, chase_own_tail, name, print_status, status, walk\n"
     ]
    }
   ],
   "source": [
    "class Animal():\n",
    "    \n",
    "    KIND = \"Generic animal\"\n",
    "    \n",
    "    def __init__(self, name):\n",
    "        self.name = name\n",
    "        self.status = \"Idling\"\n",
    "        \n",
    "    def walk(self):\n",
    "        self.status = \"Walking\"\n",
    "        \n",
    "    def print_status(self):\n",
    "        report = \"{} {} is {}\".format(self.kind, self.name, self.status)\n",
    "        print(report)\n",
    "      \n",
    "    \n",
    "class Beast(Animal):\n",
    "    \n",
    "    KIND = \"Beast\"\n",
    "    \n",
    "    def attack(self):\n",
    "        self.status = \"Attacking\"\n",
    "    \n",
    "    \n",
    "class Prey(Animal):\n",
    "    \n",
    "    KIND = \"Prey\"\n",
    "    \n",
    "    def hide(self):\n",
    "        self.status = \"Hidding\"\n",
    "        \n",
    "        \n",
    "class Mouse(Prey):\n",
    "    \n",
    "    KIND = \"Mouse\"\n",
    "    \n",
    "    def eat_cheese(self):\n",
    "        self.status = \"Eating chesse\"\n",
    "        \n",
    "        \n",
    "class Cat(Beast):\n",
    "    \n",
    "    KIND = \"Cat\"\n",
    "    \n",
    "    def chase_mouse(self):\n",
    "        self.status = \"Chaising mouse\"\n",
    "        \n",
    "        \n",
    "class Dog(Animal):\n",
    "    \n",
    "    KIND = \"Dog\"\n",
    "    \n",
    "    def chase_own_tail(self):\n",
    "        self.status = \"Chaising own tail\"\n",
    "        \n",
    "\n",
    "c = Cat(\"Alice\")       \n",
    "m = Mouse(\"Bob\")\n",
    "d = Dog(\"Chris\")\n",
    "\n",
    "print(\", \".join(dir(c)))\n",
    "print(\", \".join(dir(m)))\n",
    "print(\", \".join(dir(d)))"
   ]
  },
  {
   "cell_type": "markdown",
   "metadata": {},
   "source": [
    "## Import (rozšíření znalostí z minulé lekce)\n",
    "Importovat je možné:\n",
    "* balíčky obsažené v instalaci Pythonu\n",
    "* nainstalované balíčky (PyPI)\n",
    "* lokální balíčky"
   ]
  },
  {
   "cell_type": "code",
   "execution_count": 19,
   "metadata": {},
   "outputs": [
    {
     "data": {
      "text/plain": [
       "5"
      ]
     },
     "execution_count": 19,
     "metadata": {},
     "output_type": "execute_result"
    }
   ],
   "source": [
    "import random\n",
    "\n",
    "random.randint(3, 5)"
   ]
  },
  {
   "cell_type": "code",
   "execution_count": 20,
   "metadata": {},
   "outputs": [
    {
     "ename": "ModuleNotFoundError",
     "evalue": "No module named 'data'",
     "output_type": "error",
     "traceback": [
      "\u001b[0;31m---------------------------------------------------------------------------\u001b[0m",
      "\u001b[0;31mModuleNotFoundError\u001b[0m                       Traceback (most recent call last)",
      "\u001b[0;32m<ipython-input-20-e19f0e299a61>\u001b[0m in \u001b[0;36m<module>\u001b[0;34m\u001b[0m\n\u001b[0;32m----> 1\u001b[0;31m \u001b[0;32mimport\u001b[0m \u001b[0mdata\u001b[0m\u001b[0;34m.\u001b[0m\u001b[0mmy_module\u001b[0m\u001b[0;34m\u001b[0m\u001b[0;34m\u001b[0m\u001b[0m\n\u001b[0m\u001b[1;32m      2\u001b[0m \u001b[0;34m\u001b[0m\u001b[0m\n\u001b[1;32m      3\u001b[0m \u001b[0mdata\u001b[0m\u001b[0;34m.\u001b[0m\u001b[0mmy_module\u001b[0m\u001b[0;34m.\u001b[0m\u001b[0mMY_CONSTANT\u001b[0m\u001b[0;34m\u001b[0m\u001b[0;34m\u001b[0m\u001b[0m\n",
      "\u001b[0;31mModuleNotFoundError\u001b[0m: No module named 'data'"
     ]
    }
   ],
   "source": [
    "import data.my_module\n",
    "\n",
    "data.my_module.MY_CONSTANT"
   ]
  },
  {
   "cell_type": "code",
   "execution_count": null,
   "metadata": {},
   "outputs": [],
   "source": [
    "from random import randint\n",
    "\n",
    "randint(6, 9)"
   ]
  },
  {
   "cell_type": "code",
   "execution_count": null,
   "metadata": {},
   "outputs": [],
   "source": [
    "from data import my_module\n",
    "\n",
    "my_module.hello_function()"
   ]
  },
  {
   "cell_type": "code",
   "execution_count": null,
   "metadata": {},
   "outputs": [],
   "source": [
    "from data.my_module import hello_function\n",
    "\n",
    "hello_function()"
   ]
  },
  {
   "cell_type": "code",
   "execution_count": null,
   "metadata": {},
   "outputs": [],
   "source": [
    "from data.my_module import hello_function as hf\n",
    "\n",
    "hf()"
   ]
  },
  {
   "cell_type": "code",
   "execution_count": null,
   "metadata": {},
   "outputs": [],
   "source": []
  },
  {
   "cell_type": "markdown",
   "metadata": {},
   "source": [
    "## Vyjímky"
   ]
  },
  {
   "cell_type": "code",
   "execution_count": null,
   "metadata": {},
   "outputs": [],
   "source": [
    "a = this_variable_should_never_exist\n",
    "b = this_variable_should_never_exist.and_definately_should_not_have_this_function()"
   ]
  },
  {
   "cell_type": "code",
   "execution_count": null,
   "metadata": {},
   "outputs": [],
   "source": [
    "try:\n",
    "    a = this_variable_should_never_exist\n",
    "    b = this_variable_should_never_exist.and_definately_should_not_have_this_function()\n",
    "except:\n",
    "    a = \"Some other fallback value that can also do the trick.\"  \n",
    "    b = 36"
   ]
  },
  {
   "cell_type": "code",
   "execution_count": null,
   "metadata": {},
   "outputs": [],
   "source": [
    "try:\n",
    "    a = this_variable_should_never_exist\n",
    "except Exception as e:\n",
    "    print(e)"
   ]
  },
  {
   "cell_type": "code",
   "execution_count": null,
   "metadata": {},
   "outputs": [],
   "source": [
    "persistent_error_log = []\n",
    "try:\n",
    "    a = this_variable_should_never_exist\n",
    "except Exception as e:\n",
    "    persistent_error_log.append(e)\n",
    "    raise"
   ]
  },
  {
   "cell_type": "code",
   "execution_count": null,
   "metadata": {},
   "outputs": [],
   "source": [
    "def sum_two_things_anyhow(a, b):\n",
    "    try:\n",
    "        return a + b\n",
    "    except:\n",
    "        try:\n",
    "            return float(a) + float(b)\n",
    "        except:\n",
    "            return str(a) + str(b)\n",
    "\n",
    "TEST_CASES = (\n",
    "    (1, 2),\n",
    "    (1, \"3.2\"),\n",
    "    (10, \"x\"),\n",
    "    (\"abc\", \"xyz\"),\n",
    "    ([1, 2], \"c\"),\n",
    "    (print, print()),\n",
    ")\n",
    "\n",
    "for test_data in TEST_CASES:\n",
    "    print(sum_two_things_anyhow(*test_data))      "
   ]
  },
  {
   "cell_type": "code",
   "execution_count": null,
   "metadata": {},
   "outputs": [],
   "source": [
    "str(print())"
   ]
  },
  {
   "cell_type": "markdown",
   "metadata": {},
   "source": [
    "## Lambda funkce (anonymní funkce)\n",
    "Tohle není příliš často používané, ale je dobré o tom vědět."
   ]
  },
  {
   "cell_type": "code",
   "execution_count": null,
   "metadata": {},
   "outputs": [],
   "source": [
    "x = lambda a : a + 10\n",
    "print(x(5))\n",
    "print(x(10))\n",
    "print(x(-1.3))"
   ]
  }
 ],
 "metadata": {
  "kernelspec": {
   "display_name": "Python 3",
   "language": "python",
   "name": "python3"
  },
  "language_info": {
   "codemirror_mode": {
    "name": "ipython",
    "version": 3
   },
   "file_extension": ".py",
   "mimetype": "text/x-python",
   "name": "python",
   "nbconvert_exporter": "python",
   "pygments_lexer": "ipython3",
   "version": "3.6.7"
  }
 },
 "nbformat": 4,
 "nbformat_minor": 2
}
