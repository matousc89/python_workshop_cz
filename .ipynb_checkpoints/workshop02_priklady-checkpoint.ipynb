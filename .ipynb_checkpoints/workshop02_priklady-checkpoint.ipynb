{
 "cells": [
  {
   "cell_type": "markdown",
   "metadata": {},
   "source": [
    "# Praktické příklady 2\n",
    "Následují praktické příklady řešené jako skripty bez tříd a funkcí."
   ]
  },
  {
   "cell_type": "markdown",
   "metadata": {},
   "source": [
    "## Hromadná korespondence"
   ]
  },
  {
   "cell_type": "code",
   "execution_count": 1,
   "metadata": {},
   "outputs": [],
   "source": [
    "TARGETS = [\"John Doe\", \"Captain Pickard\"]\n",
    "TIME = [\"45.13.2038 01:99:15\", \"this Friday\"]\n",
    "FROM = \"Spaghetti monster\"\n",
    "PLACE = \"The Other Galaxy\""
   ]
  },
  {
   "cell_type": "code",
   "execution_count": 7,
   "metadata": {},
   "outputs": [
    {
     "name": "stdout",
     "output_type": "stream",
     "text": [
      "\n",
      "\n",
      "Dear John Doe,\n",
      "Meet me in The Other Galaxy at 45.13.2038 01:99:15\n",
      "Yours truly,\n",
      "Spaghetti monster\n",
      "\n",
      "\n",
      "Dear Captain Pickard,\n",
      "Meet me in The Other Galaxy at this Friday\n",
      "Yours truly,\n",
      "Spaghetti monster\n"
     ]
    }
   ],
   "source": [
    "def handle_mails(TARGETS, TIME):\n",
    "    BODY = \"Dear {},\\nMeet me in {} at {}\\nYours truly,\\n{}\" \n",
    "    \n",
    "    def compose_mail(target, time, destination, origin):\n",
    "        return BODY.format(target, destination, time, origin)\n",
    "\n",
    "    for target, time in zip(TARGETS, TIME):\n",
    "        print(\"\\n\")\n",
    "        message = compose_mail(target, time, PLACE, FROM)\n",
    "        print(message)\n",
    "        \n",
    "handle_mails(TARGETS, TIME)"
   ]
  },
  {
   "cell_type": "markdown",
   "metadata": {},
   "source": [
    "## Obchodní cestující a jeho problém"
   ]
  },
  {
   "cell_type": "code",
   "execution_count": 23,
   "metadata": {},
   "outputs": [],
   "source": [
    "TOWNS = {\n",
    "    \"Praha\": (3, 6),\n",
    "    \"Brno\": (5, -1),\n",
    "    \"Plzeň\": (-3, 0),\n",
    "    \"Cheb\": (-10, 10),\n",
    "    \"Vídeň\": (-7, 8),\n",
    "    \"Berlin\": (1, -6),\n",
    "    \"Doksy\": (3, -7),\n",
    "    \"Jihlava\": (4, 0),\n",
    "    \"Benešov\": (-7, -10),\n",
    "    \"ORIGIN\": (-4, -3),\n",
    "}"
   ]
  },
  {
   "cell_type": "markdown",
   "metadata": {},
   "source": [
    "Kód pro změřený vzdálenosti libovolné trasy následuje."
   ]
  },
  {
   "cell_type": "code",
   "execution_count": 24,
   "metadata": {},
   "outputs": [
    {
     "name": "stdout",
     "output_type": "stream",
     "text": [
      "107.12132151434787 ['Benešov', 'Berlin', 'Brno', 'Cheb', 'Doksy', 'Jihlava', 'Plzeň', 'Praha', 'Vídeň']\n"
     ]
    }
   ],
   "source": [
    "names = sorted(list(TOWNS.keys()))\n",
    "names.remove(\"ORIGIN\")\n",
    "\n",
    "distance = 0\n",
    "location = TOWNS[\"ORIGIN\"]\n",
    "\n",
    "for stop in names + [\"ORIGIN\", ]:\n",
    "    new_location = TOWNS[stop]\n",
    "    distance += ((location[0] - new_location[0])**2 + (location[1] - new_location[1])**2)**(1/2.)\n",
    "    location = new_location\n",
    "\n",
    "print(distance, names)"
   ]
  },
  {
   "cell_type": "markdown",
   "metadata": {},
   "source": [
    "Kód vylepšený o použití komplexních čísel pro zrychlení výpočtu následuje."
   ]
  },
  {
   "cell_type": "code",
   "execution_count": 25,
   "metadata": {},
   "outputs": [
    {
     "name": "stdout",
     "output_type": "stream",
     "text": [
      "107.12132151434787 ['Benešov', 'Berlin', 'Brno', 'Cheb', 'Doksy', 'Jihlava', 'Plzeň', 'Praha', 'Vídeň']\n"
     ]
    }
   ],
   "source": [
    "towns = {key: complex(TOWNS[key][0], TOWNS[key][1])  for key in TOWNS.keys()}\n",
    "names = sorted(list(towns.keys()))\n",
    "names.remove(\"ORIGIN\")\n",
    "\n",
    "distance = 0\n",
    "location = towns[\"ORIGIN\"]\n",
    "\n",
    "for stop in names + [\"ORIGIN\", ]:\n",
    "    new_location = TOWNS[stop]\n",
    "    distance += abs(towns[stop] - location)\n",
    "    location = towns[stop]\n",
    "\n",
    "print(distance, names)"
   ]
  },
  {
   "cell_type": "markdown",
   "metadata": {},
   "source": [
    "Následuje kód, který najde nejlepš cestu prohledáním všech možných cest."
   ]
  },
  {
   "cell_type": "code",
   "execution_count": 26,
   "metadata": {},
   "outputs": [
    {
     "name": "stdout",
     "output_type": "stream",
     "text": [
      "Total paths:  362880\n",
      "Average distance:  109.61453799562858\n",
      "61.790067984922565 \t ('Benešov', 'Berlin', 'Doksy', 'Brno', 'Jihlava', 'Praha', 'Vídeň', 'Cheb', 'Plzeň')\n"
     ]
    }
   ],
   "source": [
    "import itertools\n",
    "\n",
    "towns = {key: complex(TOWNS[key][0], TOWNS[key][1])  for key in TOWNS.keys()}\n",
    "names = list(towns.keys())\n",
    "names.remove(\"ORIGIN\")\n",
    "\n",
    "best_distance = float(\"inf\")\n",
    "best_path = False\n",
    "\n",
    "paths = list(itertools.permutations(names))\n",
    "print(\"Total paths: \", len(paths))\n",
    "\n",
    "distances = []\n",
    "for path in paths:\n",
    "    distance = 0\n",
    "    location = towns[\"ORIGIN\"]\n",
    "    \n",
    "    for stop in list(path) + [\"ORIGIN\", ]:\n",
    "        distance += abs(towns[stop] - location)\n",
    "        location = towns[stop]\n",
    "\n",
    "    if best_distance > distance:\n",
    "        best_distance = distance\n",
    "        best_path = path    \n",
    "        \n",
    "    distances.append(distance)\n",
    "\n",
    "print(\"Average distance: \", sum(distances) / len(distances))    \n",
    "    \n",
    "print(best_distance, \"\\t\", best_path)"
   ]
  },
  {
   "cell_type": "markdown",
   "metadata": {},
   "source": [
    "Následuje kód, který prohledá jen náhodnou část možných tras."
   ]
  },
  {
   "cell_type": "code",
   "execution_count": 27,
   "metadata": {},
   "outputs": [
    {
     "name": "stdout",
     "output_type": "stream",
     "text": [
      "69.8484972785968 \t ['Berlin', 'Doksy', 'Brno', 'Jihlava', 'Praha', 'Vídeň', 'Cheb', 'Benešov', 'Plzeň']\n"
     ]
    }
   ],
   "source": [
    "import random\n",
    "\n",
    "towns = {key: complex(TOWNS[key][0], TOWNS[key][1])  for key in TOWNS.keys()}\n",
    "names = list(towns.keys())\n",
    "names.remove(\"ORIGIN\")\n",
    "\n",
    "best_distance = float(\"inf\")\n",
    "best_path = False\n",
    "\n",
    "for _ in range(5000):\n",
    "    path = random.sample(names, len(names))\n",
    "    distance = 0\n",
    "    location = towns[\"ORIGIN\"]\n",
    "    \n",
    "    for stop in path + [\"ORIGIN\", ]:\n",
    "        distance += abs(towns[stop] - location)\n",
    "        location = towns[stop]\n",
    "    \n",
    "    if best_distance > distance:\n",
    "        best_distance = distance\n",
    "        best_path = path\n",
    "\n",
    "print(best_distance, \"\\t\", best_path)"
   ]
  },
  {
   "cell_type": "code",
   "execution_count": null,
   "metadata": {},
   "outputs": [],
   "source": []
  }
 ],
 "metadata": {
  "kernelspec": {
   "display_name": "Python 3",
   "language": "python",
   "name": "python3"
  },
  "language_info": {
   "codemirror_mode": {
    "name": "ipython",
    "version": 3
   },
   "file_extension": ".py",
   "mimetype": "text/x-python",
   "name": "python",
   "nbconvert_exporter": "python",
   "pygments_lexer": "ipython3",
   "version": "3.6.7"
  }
 },
 "nbformat": 4,
 "nbformat_minor": 2
}
