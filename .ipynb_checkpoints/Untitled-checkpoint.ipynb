{
 "cells": [
  {
   "cell_type": "code",
   "execution_count": 68,
   "metadata": {},
   "outputs": [],
   "source": [
    "import requests\n",
    "import os\n",
    "from bs4 import BeautifulSoup\n",
    "\n",
    "URL = \"https://en.wikipedia.org/wiki/Penguin\"\n",
    "OUT_DIR = \"output\""
   ]
  },
  {
   "cell_type": "code",
   "execution_count": 20,
   "metadata": {},
   "outputs": [
    {
     "data": {
      "text/plain": [
       "200"
      ]
     },
     "execution_count": 20,
     "metadata": {},
     "output_type": "execute_result"
    }
   ],
   "source": [
    "r = requests.get(URL)\n",
    "\n",
    "r.status_code"
   ]
  },
  {
   "cell_type": "code",
   "execution_count": 155,
   "metadata": {},
   "outputs": [],
   "source": [
    "def get_content_from_response(response):\n",
    "    html = r.text\n",
    "    root = BeautifulSoup(html, \"html.parser\")\n",
    "    body = root.find(\"div\", {\"class\": \"mw-parser-output\"})\n",
    "    \n",
    "    data = {\n",
    "        \"content\": [[\"h1\", root.find(\"h1\").text], ],\n",
    "        \"title\": root.find(\"h1\").text,\n",
    "        \"url\": r.url,\n",
    "        \"links\": [],\n",
    "    }\n",
    "    \n",
    "    for item in body:\n",
    "        new_content = []\n",
    "        if item.name in [None, \"div\", \"table\", \"ul\", \"ol\", \"style\", \"blockquote\", \"center\", \"link\", \"dl\"]:\n",
    "            pass\n",
    "        elif item.name == \"p\":\n",
    "            if len(item.text) > 2:\n",
    "                for subitem in item.findAll(\"sup\"):\n",
    "                    subitem.decompose() \n",
    "                new_content = [\"p\", item.text[:-1]]\n",
    "        elif item.name.startswith(\"h\"):\n",
    "            for subitem in item.findAll(\"span\", {\"class\": \"mw-editsection\"}):\n",
    "                subitem.decompose() \n",
    "            if not item.text in [\"References\", \"Bibliography\", \"External links\", \"See also\"]:\n",
    "                new_content = [item.name, item.text]\n",
    "        else:\n",
    "            print(item.name)\n",
    "            \n",
    "        if new_content:\n",
    "            data[\"content\"].append(new_content)\n",
    "\n",
    "    for link in body.findAll(\"a\"):\n",
    "        if \"href\" in link.attrs:\n",
    "            if link.attrs[\"href\"].startswith(\"/wiki/\") and not \":\" in link.attrs[\"href\"]:\n",
    "                data[\"links\"].append(link.attrs[\"href\"])\n",
    "                \n",
    "    return data\n",
    "\n",
    "    \n",
    "data = get_content_from_response(r)\n",
    "\n",
    "# for line in data[\"content\"]:\n",
    "#     print(line)\n",
    "\n"
   ]
  },
  {
   "cell_type": "code",
   "execution_count": 82,
   "metadata": {},
   "outputs": [
    {
     "name": "stdout",
     "output_type": "stream",
     "text": [
      " <!DOCTYPE html>\n",
      "<html>\n",
      "    <head>\n",
      "        <meta charset=\"UTF-8\">\n",
      "        <title>\n",
      "        [[TITLE]]\n",
      "        </title>\n",
      "        <style>\n",
      "            html {\n",
      "                background-color: #999999;\n",
      "            }\n",
      "            body {\n",
      "                width: 80%;\n",
      "                max-width: 500px;\n",
      "                border: 1px solid #555555;\n",
      "                padding: 10px;\n",
      "                margin: 0px auto;\n",
      "                background-color: #FFFFFF;\n",
      "                font-family: Verdana, Geneva, sans-serif;\n",
      "            }\n",
      "            img {\n",
      "                width: 100%;\n",
      "            }\n",
      "            p {\n",
      "                text-align: justify;\n",
      "            }\n",
      "        </style>\n",
      "    </head>\n",
      "\n",
      "    <body>\n",
      "        <h1>Penguin</h1><p>Penguins (order Sphenisciformes, family Spheniscidae) are a group of aquatic flightless birds.  They live almost exclusively in the Southern Hemisphere, with only one species, the Galapagos penguin, found north of the equator. Highly adapted for life in the water, penguins have countershaded dark and white plumage, and their wings have evolved into flippers. Most penguins feed on krill, fish, squid and other forms of sea life which they catch while swimming underwater. They spend roughly half of their lives on land and the other half in the sea.</p><p>Although almost all penguin species are native to the Southern Hemisphere, they are not found only in cold climates, such as Antarctica. In fact, only a few species of penguin live so far south. Several species are found in the temperate zone, and one species, the Galápagos penguin, lives near the equator.</p><p>The largest living species is the emperor penguin (Aptenodytes forsteri): on average, adults are about 1.1 m (3 ft 7 in) tall and weigh 35 kg (77 lb).  The smallest penguin species is the little blue penguin (Eudyptula minor), also known as the fairy penguin, which stands around 40 cm (16 in) tall and weighs 1 kg (2.2 lb). Among extant penguins, larger penguins inhabit colder regions, while smaller penguins are generally found in temperate or even tropical climates (see also Bergmann's rule). Some prehistoric species attained enormous sizes, becoming as tall or as heavy as an adult human. These were not restricted to Antarctic regions; on the contrary, subantarctic regions harboured high diversity, and at least one giant penguin occurred in a region around 2,000 km south of the equator 35 mya, in a climate decidedly warmer than today.</p><h2>Etymology</h2><p>The word penguin first appears in the 16th century as a synonym for great auk. When European explorers discovered what are today known as penguins in the Southern Hemisphere, they noticed their similar appearance to the great auk of the Northern Hemisphere, and named them after this bird, although they are not closely related.</p><p>The etymology of the word penguin is still debated. The English word is not apparently of French, Breton or Spanish origin (the latter two are attributed to the French word pingouin \"auk\"), but first appears in English or Dutch.</p><p>Some dictionaries suggest a derivation from Welsh pen, \"head\" and gwyn, \"white\", including the Oxford English Dictionary, the American Heritage Dictionary, the Century Dictionary and Merriam-Webster, on the basis that the name was originally applied to the great auk, either because it was found on White Head Island (Welsh Pen Gwyn) in Newfoundland, or because it had white circles around its eyes (though the head was black).</p><p>An alternative etymology links the word to Latin pinguis, which means \"fat\" or \"oil\". Support for this etymology can be found in the alternative Germanic word for penguin, fettgans or \"fat-goose\", and the related Dutch word vetgans.</p><p>Adult male penguins are called cocks, females hens; a group of penguins on land is a waddle, and a similar group in the water is a raft.</p><h2>Systematics and evolution</h2><h3>Living species and recent extinctions</h3><p>The number of extant penguin species is debated. Depending on which authority is followed, penguin biodiversity varies between 17 and 20 living species, all in the subfamily Spheniscinae. Some sources consider the white-flippered penguin a separate Eudyptula species, while others treat it as a subspecies of the little penguin; the actual situation seems to be more complicated. Similarly, it is still unclear whether the royal penguin is merely a colour morph of the macaroni penguin. The status of the rockhopper penguins is also unclear.</p><p>Updated after Marples (1962), Acosta Hospitaleche (2004), and Ksepka et al. (2006).</p><p>Subfamily Spheniscinae – modern penguins</p><h3>Fossil genera</h3><p>Order Sphenisciformes</p><p>The Early Oligocene genus Cruschedula was formerly thought to belong to Spheniscidae, however reexamination of the holotype in 1943 resulted in the genus being placed in Accipitridae. Further examination in 1980 resulted in placement as Aves incertae sedis.</p><h3>Taxonomy</h3><p>Some recent sources apply the phylogenetic taxon Spheniscidae to what here is referred to as Spheniscinae. Furthermore, they restrict the phylogenetic taxon Sphenisciformes to flightless taxa, and establish the phylogenetic taxon Pansphenisciformes as equivalent to the Linnean taxon Sphenisciformes, i.e., including any flying basal \"proto-penguins\" to be discovered eventually. Given that neither the relationships of the penguin subfamilies to each other nor the placement of the penguins in the avian phylogeny is presently resolved, this is confusing, so the established Linnean system is followed here.</p><h3>Evolution</h3><p>The evolutionary history of penguins is well-researched and represents a showcase of evolutionary biogeography. Although penguin bones of any one species vary much in size and few good specimens are known, the alpha taxonomy of many prehistoric forms still leaves much to be desired. Some seminal articles about penguin prehistory have been published since 2005; the evolution of the living genera can be considered resolved by now.</p><p>The basal penguins lived around the time of the Cretaceous–Paleogene extinction event somewhere in the general area of (southern) New Zealand and Byrd Land, Antarctica. Due to plate tectonics, these areas were at that time less than 1,500 kilometres (930 mi) apart rather than the 4,000 kilometres (2,500 mi) of today. The most recent common ancestor of penguins and their sister clade can be roughly dated to the Campanian–Maastrichtian boundary, around 70–68 mya.\n",
      "What can be said as certainly as possible in the absence of direct (i.e., fossil) evidence is that, by the end of the Cretaceous, the penguin lineage must have been evolutionarily well distinct, though much less so morphologically; it is fairly likely that they were not yet entirely flightless at that time, as flightless birds have generally low resilience to the breakdown of trophic webs that follows the initial phase of mass extinctions because of their below-average dispersal capabilities (see also Flightless cormorant).</p><h4>Basal fossils</h4><p>The oldest known fossil penguin species is Waimanu manneringi, which lived in the early Paleocene epoch of New Zealand, or about 62 mya. While they were not as well-adapted to aquatic life as modern penguins, Waimanu were generally loon-like birds but already flightless, with short wings adapted for deep diving. They swam on the surface using mainly their feet, but the wings were – as opposed to most other diving birds (both living and extinct) – already adapting to underwater locomotion.</p><p>Perudyptes from northern Peru was dated to 42 mya. An unnamed fossil from Argentina proves that, by the Bartonian (Middle Eocene), some 39–38 mya, primitive penguins had spread to South America and were in the process of expanding into Atlantic waters.</p><h4>Palaeeudyptines</h4><p>During the Late Eocene and the Early Oligocene (40–30 mya), some lineages of gigantic penguins existed. Nordenskjoeld's giant penguin was the tallest, growing nearly 1.80 meters (5.9 feet) tall. The New Zealand giant penguin was probably the heaviest, weighing 80 kg or more. Both were found on New Zealand, the former also in the Antarctic farther eastwards.</p><p>Traditionally, most extinct species of penguins, giant or small, had been placed in the paraphyletic subfamily called Palaeeudyptinae. More recently, with new taxa being discovered and placed in the phylogeny if possible, it is becoming accepted that there were at least two major extinct lineages. One or two closely related ones occurred in Patagonia, and at least one other—which is or includes the paleeudyptines as recognized today – occurred on most Antarctic and Subantarctic coasts.</p><p>But size plasticity seems to have been great at this initial stage of penguin radiation: on Seymour Island, Antarctica, for example, around 10 known species of penguins ranging in size from medium to huge apparently coexisted some 35 mya during the Priabonian (Late Eocene). It is not even known whether the gigantic palaeeudyptines constitute a monophyletic lineage, or whether gigantism was evolved independently in a much restricted Palaeeudyptinae and the Anthropornithinae – whether they were considered valid, or whether there was a wide size range present in the Palaeeudyptinae as delimited as usually done these days (i.e., including Anthropornis nordenskjoeldi). The oldest well-described giant penguin, the 5-foot (1.5 m)-tall Icadyptes salasi, actually occurred as far north as northern Peru about 36 mya.</p><p>In any case, the gigantic penguins had disappeared by the end of the Paleogene, around 25 mya. Their decline and disappearance coincided with the spread of the Squalodontoidea and other primitive, fish-eating toothed whales, which certainly competed with them for food, and were ultimately more successful. A new lineage, the Paraptenodytes, which includes smaller but decidedly stout-legged forms, had already arisen in southernmost South America by that time. The early Neogene saw the emergence of yet another morphotype in the same area, the similarly sized but more gracile Palaeospheniscinae, as well as the radiation that gave rise to the penguin biodiversity of our time.</p><h4>Origin and systematics of modern penguins</h4><p>Modern penguins constitute two undisputed clades and another two more basal genera with more ambiguous relationships. The origin of the Spheniscinae lies probably in the latest Paleogene, and geographically it must have been much the same as the general area in which the order evolved: the oceans between the Australia-New Zealand region and the Antarctic. Presumably diverging from other penguins around 40 mya, it seems that the Spheniscinae were for quite some time limited to their ancestral area, as the well-researched deposits of the Antarctic Peninsula and Patagonia have not yielded Paleogene fossils of the subfamily. Also, the earliest spheniscine lineages are those with the most southern distribution.</p><p>The genus Aptenodytes appears to be the basalmost divergence among living penguins they have bright yellow-orange neck, breast, and bill patches; incubate by placing their eggs on their feet, and when they hatch the chicks are almost naked. This genus has a distribution centred on the Antarctic coasts and barely extends to some Subantarctic islands today.</p><p>Pygoscelis contains species with a fairly simple black-and-white head pattern; their distribution is intermediate, centred on Antarctic coasts but extending somewhat northwards from there. In external morphology, these apparently still resemble the common ancestor of the Spheniscinae, as Aptenodytes' autapomorphies are in most cases fairly pronounced adaptations related to that genus' extreme habitat conditions. As the former genus, Pygoscelis seems to have diverged during the Bartonian, but the range expansion and radiation that led to the present-day diversity probably did not occur until much later; around the Burdigalian stage of the Early Miocene, roughly 20–15 mya.</p><p>The genera Spheniscus and Eudyptula contain species with a mostly Subantarctic distribution centred on South America; some, however, range quite far northwards. They all lack carotenoid colouration and the former genus has a conspicuous banded head pattern; they are unique among living penguins by nesting in burrows. This group probably radiated eastwards with the Antarctic Circumpolar Current out of the ancestral range of modern penguins throughout the Chattian (Late Oligocene), starting approximately 28 mya. While the two genera separated during this time, the present-day diversity is the result of a Pliocene radiation, taking place some 4–2 mya.</p><p>The Megadyptes–Eudyptes clade occurs at similar latitudes (though not as far north as the Galapagos penguin), has its highest diversity in the New Zealand region, and represents a westward dispersal. They are characterized by hairy yellow ornamental head feathers; their bills are at least partly red. These two genera diverged apparently in the Middle Miocene (Langhian, roughly 15–14 mya), but again, the living species of Eudyptes are the product of a later radiation, stretching from about the late Tortonian (Late Miocene, 8 mya) to the end of the Pliocene.</p><h4>Geography</h4><p>The geographical and temporal pattern or spheniscine evolution corresponds closely to two episodes of global cooling documented in the paleoclimatic record. The emergence of the Subantarctic lineage at the end of the Bartonian corresponds with the onset of the slow period of cooling that eventually led to the ice ages some 35 million years later. With habitat on the Antarctic coasts declining, by the Priabonian more hospitable conditions for most penguins existed in the Subantarctic regions rather than in Antarctica itself. Notably, the cold Antarctic Circumpolar Current also started as a continuous circumpolar flow only around 30 mya, on the one hand forcing the Antarctic cooling, and on the other facilitating the eastward expansion of Spheniscus to South America and eventually beyond. Despite this, there is no fossil evidence to support the idea of crown radiation from the Antarctic continent in the Paleogene, although DNA study favors such a radiation.</p><p>Later, an interspersed period of slight warming was ended by the Middle Miocene Climate Transition, a sharp drop in global average temperature from 14–12 mya, and similar abrupt cooling events followed at 8 mya and 4 mya; by the end of the Tortonian, the Antarctic ice sheet was already much like today in volume and extent. The emergence of most of today's Subantarctic penguin species almost certainly was caused by this sequence of Neogene climate shifts.</p><h4>Relationship to other bird orders</h4><p>Penguin ancestry beyond Waimanu remains unknown and not well-resolved by molecular or morphological analyses. The latter tend to be confounded by the strong adaptive autapomorphies of the Sphenisciformes; a sometimes perceived fairly close relationship between penguins and grebes is almost certainly an error based on both groups' strong diving adaptations, which are homoplasies. On the other hand, different DNA sequence datasets do not agree in detail with each other either.</p><p>What seems clear is that penguins belong to a clade of Neoaves (living birds except paleognaths and fowl) that comprises what is sometimes called \"higher waterbirds\" to distinguish them from the more ancient waterfowl. This group contains such birds as storks, rails, and the seabirds, with the possible exception of the Charadriiformes.</p><p>Inside this group, penguin relationships are far less clear. Depending on the analysis and dataset, a close relationship to Ciconiiformes or to Procellariiformes has been suggested. Some think the penguin-like plotopterids (usually considered relatives of anhingas and cormorants) may actually be a sister group of the penguins and those penguins may have ultimately shared a common ancestor with the Pelecaniformes and consequently would have to be included in that order, or that the plotopterids were not as close to other pelecaniforms as generally assumed, which would necessitate splitting the traditional Pelecaniformes in three.</p><p>A 2014 analysis of whole genomes of 48 representative bird species has concluded that penguins are the sister group of Procellariiformes, from which they diverged about 60 million years ago (95% CI, 56.8-62.7).</p><p>The distantly related puffins, which live in the North Pacific and North Atlantic, developed similar characteristics to survive in the Arctic and sub-Arctic environments.  Like the penguins, puffins have a white chest, black back and short stubby wings providing excellent swimming ability in icy water. But, unlike penguins, puffins can fly, as flightless birds would not survive alongside land-based predators such as polar bears and foxes; there are no such predators in the Antarctic. Their similarities indicate that similar environments, although at great distances, can result in similar evolutionary developments, i.e. convergent evolution.</p><h2>Anatomy and physiology</h2><p>Penguins are superbly adapted to aquatic life. Their vestigial wings have become flippers, useless for flight in the air. In the water, however, penguins are astonishingly agile. Penguins' swimming looks very similar to bird's flight in the air. Within the smooth plumage a layer of air is preserved, ensuring buoyancy. The air layer also helps insulate the birds in cold waters. On land, penguins use their tails and wings to maintain balance for their upright stance.</p><p>All penguins are countershaded for camouflage – that is, they have black backs and wings with white fronts. A predator looking up from below (such as an orca or a leopard seal) has difficulty distinguishing between a white penguin belly and the reflective water surface. The dark plumage on their backs camouflages them from above.</p><p>Diving penguins reach 6 to 12 km/h (3.7 to 7.5 mph), though there are reports of velocities of 27 km/h (17 mph) (which are more realistic in the case of startled flight). The small penguins do not usually dive deep; they catch their prey near the surface in dives that normally last only one or two minutes. Larger penguins can dive deep in case of need. Dives of the large emperor penguin have been recorded reaching a depth of 565 m (1,854 ft) for up to 22 minutes.</p><p>Penguins either waddle on their feet or slide on their bellies across the snow while using their feet to propel and steer themselves, a movement called \"tobogganing\", which conserves energy while moving quickly. They also jump with both feet together if they want to move more quickly or cross steep or rocky terrain.</p><p>Penguins have an average sense of hearing for birds; this is used by parents and chicks to locate one another in crowded colonies. Their eyes are adapted for underwater vision, and are their primary means of locating prey and avoiding predators; in air it has been suggested that they are nearsighted, although research has not supported this hypothesis.</p><p>Penguins have a thick layer of insulating feathers that keeps them warm in water (heat loss in water is much greater than in air). The emperor penguin has a maximum feather density of about nine feathers per square centimeter which is actually much lower than other birds that live in antarctic environments.  However, they have been identified as having at least four different types of feather: in addition to the traditional feather, the emperor has afterfeathers, plumules, and filoplumes.  The afterfeathers are downy plumes that attach directly to the main feathers and were once believed to account for the bird's ability to conserve heat when under water; the plumules are small down feathers that attach directly to the skin, and are much more dense in penguins than other birds; lastly the filoplumes are small (less than 1 cm long) naked shafts that end in a splay of fibers— filoplumes were believed to give flying birds a sense of where their plumage was and whether or not it needed preening, so their presence in penguins may seem inconsistent, but penguins also preen extensively.</p><p>The emperor penguin has the largest body mass of all penguins, which further reduces relative surface area and heat loss. They also are able to control blood flow to their extremities, reducing the amount of blood that gets cold, but still keeping the extremities from freezing. In the extreme cold of the Antarctic winter, the females are at sea fishing for food leaving the males to brave the weather by themselves. They often huddle together to keep warm and rotate positions to make sure that each penguin gets a turn in the centre of the heat pack.</p><p>Calculations of the heat loss and retention ability of marine endotherms  suggest that most extant penguins are too small to survive in such cold environments. In 2007, Thomas and Fordyce wrote about the \"heterothermic loophole\" that penguins utilize in order to survive in Antarctica. All extant penguins, even those that live in warmer climates, have a counter-current heat exchanger called the humeral plexus. The flippers of penguins have at least three branches of the axillary artery, which allows cold blood to be heated by blood that has already been warmed and limits heat loss from the flippers. This system allows penguins to efficiently use their body heat and explains why such small animals can survive in the extreme cold.</p><p>They can drink salt water because their supraorbital gland filters excess salt from the bloodstream. The salt is excreted in a concentrated fluid from the nasal passages.</p><p>The great auk of the Northern Hemisphere, now extinct, was superficially similar to penguins, and the word penguin was originally used for that bird, centuries ago. They are only distantly related to the penguins, but are an example of convergent evolution.</p><h3>Isabelline penguins</h3><p>Perhaps one in 50,000 penguins (of most species) are born with brown rather than black plumage. These are called isabelline penguins. Isabellinism is different from albinism. Isabelline penguins tend to live shorter lives than normal penguins, as they are not well-camouflaged against the deep and are often passed over as mates.</p><h2>Distribution and habitat</h2><p>Although almost all penguin species are native to the Southern Hemisphere, they are not found only in cold climates, such as Antarctica. In fact, only a few species of penguin actually live so far south. Several species live in the temperate zone; one, the Galápagos penguin, lives as far north as the Galápagos Islands, but this is only made possible by the cold, rich waters of the Antarctic Humboldt Current that flows around these islands.</p><p>Several authors have suggested that penguins are a good example of Bergmann's Rule where larger bodied populations live at higher latitudes than smaller bodied populations. There is some disagreement about this, and several other authors have noted that there are fossil penguin species that contradict this hypothesis and that ocean currents and upwellings are likely to have had a greater effect on species diversity than latitude alone.</p><p>Major populations of penguins are found in Angola, Antarctica, Argentina, Australia, Chile, Namibia, New Zealand, and South Africa. Satellite images and photos released in 2018 show the population of two million in France's remote Ile aux Cochons has collapsed, with barely 200,000 remaining, according to a study published in Antarctic Science.</p><h2>Behaviour</h2><h3>Breeding</h3><p>Penguins for the most part breed in large colonies, the exceptions being the yellow-eyed and Fiordland species; these colonies may range in size from as few as a 100 pairs for gentoo penguins, to several hundred thousand in the case of king, macaroni and chinstrap penguins. Living in colonies results in a high level of social interaction between birds, which has led to a large repertoire of visual as well as vocal displays in all penguin species. Agonistic displays are those intended to confront or drive off, or alternately appease and avoid conflict with, other individuals.</p><p>Penguins form monogamous pairs for a breeding season, though the rate the same pair recouples varies drastically. Most penguins lay two eggs in a clutch, although the two largest species, the emperor and the king penguins, lay only one. With the exception of the emperor penguin, where the male does it all, all penguins share the incubation duties. These incubation shifts can last days and even weeks as one member of the pair feeds at sea.</p><p>Penguins generally only lay one brood; the exception is the little penguin, which can raise two or three broods in a season.</p><p>Penguin eggs are smaller than any other bird species when compared proportionally to the weight of the parent birds; at 52 g (2 oz), the little penguin egg is 4.7% of its mothers' weight, and the 450 g (1 lb) emperor penguin egg is 2.3%. The relatively thick shell forms between 10 and 16% of the weight of a penguin egg, presumably to reduce the effects of dehydration and to minimize the risk of breakage in an adverse nesting environment. The yolk, too, is large, and comprises 22–31% of the egg. Some yolk often remains when a chick is born, and is thought to help sustain the chick if the parents are delayed in returning with food.</p><p>When emperor penguin mothers lose a chick, they sometimes attempt to \"steal\" another mother's chick, usually unsuccessfully as other females in the vicinity assist the defending mother in keeping her chick. In some species, such as king and emperor penguins, the chicks assemble in large groups called crèches.</p><h2>Penguins and humans</h2><p>Penguins appear to have no special fear of humans, and will approach groups of people without hesitation. This is probably because penguins have no land predators in Antarctica or the nearby offshore islands. Dogs preyed upon penguins while they were allowed in Antarctica during the age of early human exploration as sled dogs, but dogs have long since been banned from Antarctica. Instead, adult penguins are at risk at sea from predators such as sharks, orcas, and leopard seals. Typically, penguins do not approach closer than around 9 feet (3 meters), at which point they appear to become nervous. This is also the distance that Antarctic tourists are instructed to maintain between themselves and penguins: tourists are instructed not to approach closer than 9 feet, but need not withdraw if the penguins come closer.</p><p>In June 2011, a penguin came ashore on New Zealand's Peka Peka Beach, 3200 km off course on its journey to Antarctica. Nicknamed Happy Feet, after the movie of the same name, it was suffering from heat exhaustion and had to undergo a number of operations to remove objects like driftwood and sand from its stomach. Happy Feet was a media sensation, with extensive coverage on TV and the web, including a live stream that had thousands of views and a visit from English actor Stephen Fry.</p><p>Once he had recovered, Happy Feet was released back into the water south of New Zealand.</p><h3>In popular culture</h3><p>Penguins are popularly loved around the world, primarily for their unusually upright, waddling gait, impressive swimming ability and (compared to other birds) lack of fear of humans. Their striking black-and-white plumage is often likened to a white tie suit. Mistakenly, some artists and writers have penguins based at the North Pole. This is incorrect, as there are no wild penguins in the Arctic. The cartoon series Chilly Willy helped perpetuate this myth, as the title penguin would interact with Arctic or subarctic species, such as polar bears and walruses. </p><p>Penguins have been the subject of many books and films, such as Happy Feet, Surf's Up and The Penguins of Madagascar, all CGI films; March of the Penguins, a documentary based on the migration process of the emperor penguin; and a parody titled Farce of the Penguins. Mr. Popper's Penguins is a children's book written by Richard and Florence Atwater; it was named a Newbery Honor Book in 1939. Penguins have also found their way into a number of cartoons and television dramas; perhaps the most notable of these is Pingu, created by Silvio Mazzola in 1986 and covering more than 100 short episodes. At the end of 2009, Entertainment Weekly put it on its end-of-the-decade, \"best-of\" list, saying, \"Whether they were walking (March of the Penguins), dancing (Happy Feet), or hanging ten (Surf's Up), these oddly adorable birds took flight at the box office all decade long.\"</p><p>A video game called Pengo was released by Sega in 1982. Set in Antarctica, the player controls a penguin character who must navigate mazes of ice-cubes. The player is rewarded with cut-scenes of animated penguins marching, dancing, saluting and playing peekaboo. Several remakes and enhanced editions have followed, most recently in 2012. Penguins are also sometimes depicted in music.</p><p>In 1941, DC Comics introduced the avian-themed character of The Penguin as a supervillain adversary of the superhero Batman (Detective Comics #58). He became one of the most enduring enemies in Batman's rogue's gallery. In the 60s Batman TV series, as played by Burgess Meredith, he was one of the most popular characters, and in Tim Burton's reimagining of the character in the 1992 film Batman Returns, he employed an actual army of penguins (mostly African penguins).</p><p>Several pro, minor, college and high school sport teams have named themselves after the species, with the Pittsburgh Penguins team in the National Hockey League and the Youngstown State Penguins being the most recognizable.</p><p>The tendency of penguins to form large groups feeds the stereotype that they all look exactly alike, a popular notion exploited by cartoonists such as Gary Larson.</p><p>Penguins featured regularly in the cartoons of UK cartoonist Steve Bell in his strip in The Guardian newspaper, particularly during and following the Falklands War, and the well-known Opus the Penguin, from the cartoons of Berkeley Breathed, is also described as hailing from the Falklands. Opus was a comical, \"existentialist\" penguin character in the cartoons Bloom County, Outland and Opus. He was also the star in the Christmas show A Wish for Wings That Work.</p><p>In the mid-2000s, penguins became one of the most publicized species of animals that form lasting homosexual couples. A children's book, And Tango Makes Three, was written about one such penguin family in the New York Zoo.</p>\n",
      "    </body>\n",
      "\n",
      "</html> \n"
     ]
    }
   ],
   "source": [
    "def content_to_md(content):\n",
    "    output = []\n",
    "    for item in content:\n",
    "        new_item = \"#\" * int(item[0][1]) + \" \" if item[0].startswith(\"h\") else \"\"            \n",
    "        output.append(new_item + item[1]) \n",
    "    return \"\\n\\n\".join(output)\n",
    "\n",
    "def content_to_html(content):\n",
    "    output = []\n",
    "    for item in content:\n",
    "        new_item = \"<{0}>{1}</{0}>\".format(item[0], item[1])\n",
    "        output.append(new_item)\n",
    "    body = \"\".join(output)\n",
    "    with open(\"data/template1.html\", \"r\") as f:\n",
    "        template = f.read()\n",
    "    return template.replace(\"[[BODY]]\", body)\n",
    "    \n",
    "\n",
    "output = content_to_html(data[\"content\"])\n",
    "\n",
    "print(output)"
   ]
  },
  {
   "cell_type": "code",
   "execution_count": 83,
   "metadata": {},
   "outputs": [],
   "source": [
    "\n",
    "def save_to_file(data):\n",
    "    exports = [\n",
    "        (\"md\", content_to_md),\n",
    "        (\"html\", content_to_html),\n",
    "    ]\n",
    "    \n",
    "    for export in exports:\n",
    "        filename = data[\"title\"].lower().replace(\" \", \"_\") + \".\" + export[0]\n",
    "        path = os.path.join(OUT_DIR, filename)\n",
    "        text = export[1](data[\"content\"])\n",
    "        with open(path,\"w\") as f:\n",
    "            f.write(text)\n",
    "\n",
    "save_to_file(data)\n"
   ]
  },
  {
   "cell_type": "code",
   "execution_count": 156,
   "metadata": {},
   "outputs": [
    {
     "name": "stdout",
     "output_type": "stream",
     "text": [
      "200 491 Penguin\n",
      "200 568 Megapode\n",
      "200 868 Taxonomy (biology)\n",
      "200 875 Anthropodyptes\n",
      "200 936 List of Sphenisciformes by population\n",
      "200 993 Evolutionary taxonomy\n",
      "200 1002 Monophyly\n",
      "200 1020 Monotypic taxon\n",
      "200 1394 Actinobacteria\n",
      "200 1474 PubMed\n",
      "200 1627 Linneus, Maine\n",
      "200 1626 Merrill, Maine\n",
      "200 1638 Waigeo brushturkey\n",
      "200 1840 Chlorophyta\n",
      "200 1847 Trebouxiophyceae\n",
      "200 1938 Linnaean taxonomy\n",
      "200 1958 Barthélemy Charles Joseph Dumortier\n",
      "200 2157 Little penguin\n",
      "200 2750 Linus Torvalds\n",
      "200 2758 The Birds of Australia (Gould)\n",
      "200 2776 Wrapper library\n",
      "200 2784 Florencio Utreras\n",
      "200 2893 Pullen Island (South Australia)\n",
      "200 2898 Actinobacteridae\n",
      "200 3028 Extensively drug-resistant tuberculosis\n",
      "200 3032 Ulotrichales\n",
      "200 3087 Dromornithidae\n",
      "200 3100 Alcoota\n",
      "200 3847 List of fossil sites\n",
      "200 3985 Omo Kibish Formation\n"
     ]
    }
   ],
   "source": [
    "BASE_URL = \"https://en.wikipedia.org\"\n",
    "\n",
    "urls_queue = {\"/wiki/Penguin\",}\n",
    "urls_seen = set()\n",
    "\n",
    "session = requests.session()\n",
    "\n",
    "IDX_STOP = 30\n",
    "\n",
    "while urls_queue:\n",
    "    slug = urls_queue.pop()\n",
    "    url = BASE_URL + slug\n",
    "    urls_seen.add(slug)\n",
    "    r = session.get(url)\n",
    "    data = get_content_from_response(r)\n",
    "    new_links = set(data[\"links\"])\n",
    "    \n",
    "    \n",
    "    save_to_file(data)\n",
    "    \n",
    "    urls_queue = urls_queue.union(new_links.difference(urls_seen))\n",
    "    print(r.status_code, len(urls_queue), data[\"title\"])\n",
    "    \n",
    "    IDX_STOP -= 1\n",
    "    if IDX_STOP <= 0:\n",
    "        break\n",
    "\n",
    "\n",
    "\n"
   ]
  },
  {
   "cell_type": "code",
   "execution_count": 132,
   "metadata": {},
   "outputs": [
    {
     "name": "stdout",
     "output_type": "stream",
     "text": [
      "{'y', 'x', 'a', 'c', 'b'}\n",
      "{'a', 'y', 'x', 'b'}\n",
      "{'d'}\n"
     ]
    }
   ],
   "source": [
    "A = {\"a\", \"b\", \"c\", \"d\", \"a\"}\n",
    "B = {\"x\", \"y\", \"a\", \"b\"}\n",
    "C = set()\n",
    "\n",
    "x = A.pop()\n",
    "C.add(x)\n",
    "A = A.union(B.difference(C))\n",
    "\n",
    "print(A)\n",
    "print(B)\n",
    "print(C)"
   ]
  },
  {
   "cell_type": "code",
   "execution_count": 136,
   "metadata": {},
   "outputs": [
    {
     "name": "stdout",
     "output_type": "stream",
     "text": [
      "{'b'}\n",
      "{'a', 'y', 'x', 'b'}\n",
      "{'y', 'x', 'd', 'a', 'c'}\n"
     ]
    }
   ],
   "source": [
    "x = A.pop()\n",
    "C.add(x)\n",
    "A = A.union(B.difference(C))\n",
    "\n",
    "print(A)\n",
    "print(B)\n",
    "print(C)"
   ]
  },
  {
   "cell_type": "code",
   "execution_count": null,
   "metadata": {},
   "outputs": [],
   "source": []
  },
  {
   "cell_type": "code",
   "execution_count": null,
   "metadata": {},
   "outputs": [],
   "source": []
  }
 ],
 "metadata": {
  "kernelspec": {
   "display_name": "Python 3",
   "language": "python",
   "name": "python3"
  },
  "language_info": {
   "codemirror_mode": {
    "name": "ipython",
    "version": 3
   },
   "file_extension": ".py",
   "mimetype": "text/x-python",
   "name": "python",
   "nbconvert_exporter": "python",
   "pygments_lexer": "ipython3",
   "version": "3.6.7"
  }
 },
 "nbformat": 4,
 "nbformat_minor": 2
}
