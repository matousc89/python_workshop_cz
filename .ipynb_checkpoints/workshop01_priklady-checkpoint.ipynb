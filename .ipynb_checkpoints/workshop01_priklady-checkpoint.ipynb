{
 "cells": [
  {
   "cell_type": "markdown",
   "metadata": {},
   "source": [
    "# Praktické příklady\n",
    "Následují praktické příklady řešené jako skripty bez tříd a funkcí."
   ]
  },
  {
   "cell_type": "markdown",
   "metadata": {},
   "source": [
    "## Fizz Buzz (http://wiki.c2.com/?FizzBuzzTest)\n",
    "Originální zadání: \"Write a program that prints the numbers from 1 to 100. But for multiples of three print “Fizz” instead of the number and for the multiples of five print “Buzz”. For numbers which are multiples of both three and five print “FizzBuzz”.\"\n",
    "\n",
    "Volně přeloženo: Napište program, který:\n",
    "* tiskne čísla od 1 do 100\n",
    "* pokud je číslo násob## Praktické příkladyek 3, tiskne \"Fizz\"\n",
    "* pokud je číslo násobek 5, tak namísto číslo tiknes \"Buzz\". \n",
    "* pokud je číslo násobek 3 i 5ti, program tiskne \"FizzBuzz\"\n"
   ]
  },
  {
   "cell_type": "code",
   "execution_count": 1,
   "metadata": {},
   "outputs": [
    {
     "name": "stdout",
     "output_type": "stream",
     "text": [
      "FizzBuzz 1 2 Fizz 4 Buzz Fizz 7 8 Fizz Buzz 11 Fizz 13 14 FizzBuzz 16 17 Fizz 19 Buzz Fizz 22 23 Fizz Buzz 26 Fizz 28 29 FizzBuzz 31 32 Fizz 34 Buzz Fizz 37 38 Fizz Buzz 41 Fizz 43 44 FizzBuzz 46 47 Fizz 49 Buzz Fizz 52 53 Fizz Buzz 56 Fizz 58 59 FizzBuzz 61 62 Fizz 64 Buzz Fizz 67 68 Fizz Buzz 71 Fizz 73 74 FizzBuzz 76 77 Fizz 79 Buzz Fizz 82 83 Fizz Buzz 86 Fizz 88 89 FizzBuzz 91 92 Fizz 94 Buzz Fizz 97 98 Fizz "
     ]
    }
   ],
   "source": [
    "# exptected solution\n",
    "for k in range(100):\n",
    "    if k % 3 == 0 and k % 5 == 0:\n",
    "        print(\"FizzBuzz\", end=\" \")\n",
    "    elif k % 3 == 0:\n",
    "        print(\"Fizz\", end=\" \")\n",
    "    elif k % 5 == 0:\n",
    "        print(\"Buzz\", end=\" \")\n",
    "    else:\n",
    "        print(k, end=\" \")"
   ]
  },
  {
   "cell_type": "code",
   "execution_count": 2,
   "metadata": {},
   "outputs": [
    {
     "name": "stdout",
     "output_type": "stream",
     "text": [
      "FizzBuzz 1 2 Fizz 4 Buzz Fizz 7 8 Fizz Buzz 11 Fizz 13 14 FizzBuzz 16 17 Fizz 19 Buzz Fizz 22 23 Fizz Buzz 26 Fizz 28 29 FizzBuzz 31 32 Fizz 34 Buzz Fizz 37 38 Fizz Buzz 41 Fizz 43 44 FizzBuzz 46 47 Fizz 49 Buzz Fizz 52 53 Fizz Buzz 56 Fizz 58 59 FizzBuzz 61 62 Fizz 64 Buzz Fizz 67 68 Fizz Buzz 71 Fizz 73 74 FizzBuzz 76 77 Fizz 79 Buzz Fizz 82 83 Fizz Buzz 86 Fizz 88 89 FizzBuzz 91 92 Fizz 94 Buzz Fizz 97 98 Fizz "
     ]
    }
   ],
   "source": [
    "# nice solution with ternary operator\n",
    "for k in range(100):\n",
    "    fizz = \"Fizz\" if not k % 3 else \"\"\n",
    "    buzz = \"Buzz\" if not k % 5 else \"\"\n",
    "    k = fizz + buzz if fizz or buzz else k\n",
    "    print(k, end=\" \")"
   ]
  },
  {
   "cell_type": "code",
   "execution_count": 3,
   "metadata": {},
   "outputs": [
    {
     "name": "stdout",
     "output_type": "stream",
     "text": [
      "FizzBuzz 1 2 Fizz 4 Buzz Fizz 7 8 Fizz Buzz 11 Fizz 13 14 FizzBuzz 16 17 Fizz 19 Buzz Fizz 22 23 Fizz Buzz 26 Fizz 28 29 FizzBuzz 31 32 Fizz 34 Buzz Fizz 37 38 Fizz Buzz 41 Fizz 43 44 FizzBuzz 46 47 Fizz 49 Buzz Fizz 52 53 Fizz Buzz 56 Fizz 58 59 FizzBuzz 61 62 Fizz 64 Buzz Fizz 67 68 Fizz Buzz 71 Fizz 73 74 FizzBuzz 76 77 Fizz 79 Buzz Fizz 82 83 Fizz Buzz 86 Fizz 88 89 FizzBuzz 91 92 Fizz 94 Buzz Fizz 97 98 Fizz "
     ]
    }
   ],
   "source": [
    "# twisted mind solution\n",
    "for k in range(100):\n",
    "    k = (\"Fizz\" if not k % 3 else \"\") + (\"Buzz\" if not k % 5 else \"\") if not k % 3 or not k % 5 else k\n",
    "    print(k, end=\" \")    "
   ]
  },
  {
   "cell_type": "code",
   "execution_count": 4,
   "metadata": {},
   "outputs": [
    {
     "name": "stdout",
     "output_type": "stream",
     "text": [
      "FizzBuzz 1 2 Fizz 4 Buzz Fizz 7 8 Fizz Buzz 11 Fizz 13 14 FizzBuzz 16 17 Fizz 19 Buzz Fizz 22 23 Fizz Buzz 26 Fizz 28 29 FizzBuzz 31 32 Fizz 34 Buzz Fizz 37 38 Fizz Buzz 41 Fizz 43 44 FizzBuzz 46 47 Fizz 49 Buzz Fizz 52 53 Fizz Buzz 56 Fizz 58 59 FizzBuzz 61 62 Fizz 64 Buzz Fizz 67 68 Fizz Buzz 71 Fizz 73 74 FizzBuzz 76 77 Fizz 79 Buzz Fizz 82 83 Fizz Buzz 86 Fizz 88 89 FizzBuzz 91 92 Fizz 94 Buzz Fizz 97 98 Fizz\n"
     ]
    }
   ],
   "source": [
    "# ultimate lunatic solution\n",
    "print(\" \".join([(\"Fizz\" if not k % 3 else \"\") + (\"Buzz\" if not k % 5 else \"\") if not k % 3 or not k % 5 else str(k) for k in range(100)]))"
   ]
  },
  {
   "cell_type": "markdown",
   "metadata": {},
   "source": [
    "## Hromadná korespondence"
   ]
  },
  {
   "cell_type": "code",
   "execution_count": 5,
   "metadata": {},
   "outputs": [],
   "source": [
    "TARGETS = [\"John Doe\", \"Captain Pickard\"]\n",
    "TIME = [\"45.13.2038 01:99:15\", \"this Friday\"]\n",
    "FROM = \"Spaghetti monster\"\n",
    "PLACE = \"The Other Galaxy\""
   ]
  },
  {
   "cell_type": "code",
   "execution_count": 6,
   "metadata": {},
   "outputs": [
    {
     "name": "stdout",
     "output_type": "stream",
     "text": [
      "\n",
      "\n",
      "Dear John Doe,\n",
      "Meet me in The Other Galaxy at 45.13.2038 01:99:15\n",
      "Yours truly,\n",
      "Spaghetti monster\n",
      "\n",
      "\n",
      "Dear Captain Pickard,\n",
      "Meet me in The Other Galaxy at this Friday\n",
      "Yours truly,\n",
      "Spaghetti monster\n"
     ]
    }
   ],
   "source": [
    "# solution 1\n",
    "for idx in range(len(TARGETS)):\n",
    "    print(\"\\n\")\n",
    "    message = \"Dear \"\n",
    "    message += TARGETS[idx] + \",\\n\"\n",
    "    message += \"Meet me in \" + PLACE + \" at \" + TIME[idx] + \"\\n\"\n",
    "    message += \"Yours truly,\\n\"\n",
    "    message += FROM\n",
    "    print(message)\n"
   ]
  },
  {
   "cell_type": "code",
   "execution_count": 7,
   "metadata": {},
   "outputs": [
    {
     "name": "stdout",
     "output_type": "stream",
     "text": [
      "\n",
      "\n",
      "Dear John Doe,\n",
      "Meet me in The Other Galaxy at 45.13.2038 01:99:15\n",
      "Yours truly,\n",
      "Spaghetti monster\n",
      "\n",
      "\n",
      "Dear Captain Pickard,\n",
      "Meet me in The Other Galaxy at this Friday\n",
      "Yours truly,\n",
      "Spaghetti monster\n"
     ]
    }
   ],
   "source": [
    "# solution 2\n",
    "BODY = \"Dear {},\\nMeet me in {} at {}\\nYours truly,\\n{}\"\n",
    "for target, time in zip(TARGETS, TIME):\n",
    "    print(\"\\n\")\n",
    "    message = BODY.format(target, PLACE, time, FROM)\n",
    "    print(message)"
   ]
  },
  {
   "cell_type": "markdown",
   "metadata": {},
   "source": [
    "## Caesarova šifra"
   ]
  },
  {
   "cell_type": "code",
   "execution_count": 8,
   "metadata": {},
   "outputs": [
    {
     "name": "stdout",
     "output_type": "stream",
     "text": [
      "27\n"
     ]
    }
   ],
   "source": [
    "MESSAGE = \"do not eat all my oranges\"\n",
    "TABLE = 'abcdefghijklmnopqrstuvwxyz '\n",
    "KEY = 1\n",
    "print(len(TABLE))"
   ]
  },
  {
   "cell_type": "code",
   "execution_count": 9,
   "metadata": {},
   "outputs": [
    {
     "name": "stdout",
     "output_type": "stream",
     "text": [
      "epaopuafbuabmmanzapsbohft\n"
     ]
    }
   ],
   "source": [
    "# solution 1\n",
    "cipher = \"\"\n",
    "nice_key = KEY\n",
    "\n",
    "while nice_key > len(TABLE):\n",
    "    nice_key -= len(TABLE)\n",
    "    \n",
    "while nice_key < 0:    \n",
    "    nice_key += len(TABLE)\n",
    "\n",
    "for letter in MESSAGE:\n",
    "    for idx in range(len(TABLE)):\n",
    "        if letter == TABLE[idx]:\n",
    "            new_idx = idx + nice_key\n",
    "            if new_idx >= len(TABLE):\n",
    "                new_idx = new_idx - len(TABLE)\n",
    "            cipher = cipher + TABLE[new_idx]\n",
    "print(cipher)       "
   ]
  },
  {
   "cell_type": "code",
   "execution_count": 10,
   "metadata": {},
   "outputs": [
    {
     "name": "stdout",
     "output_type": "stream",
     "text": [
      "epaopuafbuabmmanzapsbohft\n"
     ]
    }
   ],
   "source": [
    "# solution 2\n",
    "cipher = \"\"\n",
    "for letter in MESSAGE:\n",
    "    new_index = (TABLE.index(letter) + KEY) % len(TABLE)\n",
    "    cipher += TABLE[new_index]\n",
    "print(cipher)  "
   ]
  },
  {
   "cell_type": "code",
   "execution_count": 11,
   "metadata": {},
   "outputs": [
    {
     "name": "stdout",
     "output_type": "stream",
     "text": [
      "epaopuafbuabmmanzapsbohft\n"
     ]
    }
   ],
   "source": [
    "# solution 3\n",
    "cipher = \"\".join([TABLE[(TABLE.index(letter) + KEY) % len(TABLE)] for letter in MESSAGE])\n",
    "print(cipher)"
   ]
  },
  {
   "cell_type": "code",
   "execution_count": 12,
   "metadata": {},
   "outputs": [
    {
     "name": "stdout",
     "output_type": "stream",
     "text": [
      "epaopuafbuabmmanzapsbohft\n"
     ]
    }
   ],
   "source": [
    "# solution 4\n",
    "key = KEY % len(TABLE)\n",
    "shifted_table = (TABLE * 2)[key:key + len(TABLE)]\n",
    "translation = {x: y for x, y in zip(TABLE, shifted_table)}\n",
    "cipher = \"\".join([translation[letter] for letter in MESSAGE])\n",
    "print(cipher)    "
   ]
  },
  {
   "cell_type": "code",
   "execution_count": 13,
   "metadata": {},
   "outputs": [
    {
     "name": "stdout",
     "output_type": "stream",
     "text": [
      "do not eat all my oranges\n"
     ]
    }
   ],
   "source": [
    "# decrypt it\n",
    "message = \"\"\n",
    "for letter in cipher:\n",
    "    new_index = (TABLE.index(letter) - KEY) % len(TABLE)\n",
    "    message += TABLE[new_index]\n",
    "print(message)  "
   ]
  },
  {
   "cell_type": "markdown",
   "metadata": {},
   "source": [
    "## Největší společný dělitel"
   ]
  },
  {
   "cell_type": "code",
   "execution_count": 14,
   "metadata": {},
   "outputs": [],
   "source": [
    "A = 30\n",
    "B = 42"
   ]
  },
  {
   "cell_type": "code",
   "execution_count": 15,
   "metadata": {},
   "outputs": [
    {
     "name": "stdout",
     "output_type": "stream",
     "text": [
      "6\n"
     ]
    }
   ],
   "source": [
    "# solution 1.A\n",
    "div_a = []\n",
    "for num in range(1, A):\n",
    "    if A % num == 0:\n",
    "        div_a.append(num)\n",
    "\n",
    "div_b = []\n",
    "for num in range(1, B):\n",
    "    if B % num == 0:\n",
    "        div_b.append(num)\n",
    "\n",
    "common_div = []\n",
    "for div in div_a + div_b:\n",
    "    if div in div_a and div in div_b:\n",
    "        common_div.append(div)\n",
    "        \n",
    "max_div = max(common_div)  \n",
    "print(common_div[-1])"
   ]
  },
  {
   "cell_type": "code",
   "execution_count": 16,
   "metadata": {},
   "outputs": [
    {
     "name": "stdout",
     "output_type": "stream",
     "text": [
      "6\n"
     ]
    }
   ],
   "source": [
    "# solution 1.B\n",
    "div_a = [num for num in range(1, A) if A % num == 0]\n",
    "div_b = [num for num in range(1, A) if B % num == 0]\n",
    "max_div = max(set(div_a) & set(div_b))\n",
    "\n",
    "print(max_div)"
   ]
  },
  {
   "cell_type": "code",
   "execution_count": 17,
   "metadata": {},
   "outputs": [
    {
     "name": "stdout",
     "output_type": "stream",
     "text": [
      "6\n"
     ]
    }
   ],
   "source": [
    "# solution 2.A\n",
    "max_div = None\n",
    "for item in range(1, max(A, B)):\n",
    "    if A % item == 0 and B % item == 0:\n",
    "        max_div = item\n",
    "print(max_div)"
   ]
  },
  {
   "cell_type": "code",
   "execution_count": 18,
   "metadata": {},
   "outputs": [
    {
     "name": "stdout",
     "output_type": "stream",
     "text": [
      "6\n"
     ]
    }
   ],
   "source": [
    "# solution 2.B\n",
    "max_div = [item for item in range(1, max(A,B)) if A % item == 0 and B % item == 0][-1]\n",
    "print(max_div)"
   ]
  },
  {
   "cell_type": "code",
   "execution_count": 19,
   "metadata": {},
   "outputs": [
    {
     "name": "stdout",
     "output_type": "stream",
     "text": [
      "6\n"
     ]
    }
   ],
   "source": [
    "# solution from internet: https://stackoverflow.com/questions/11175131/code-for-greatest-common-divisor-in-python\n",
    "x, y = A, B\n",
    "while y:\n",
    "    x, y = y, x%y    \n",
    "print(x)"
   ]
  },
  {
   "cell_type": "markdown",
   "metadata": {},
   "source": [
    "## Plánování úkolů v čase\n",
    "Úkolem je synchronizovat vykonávání úkolu (přibližně v rámci možností platformy) zadaných v následujím seznamu. Seznam obsahuje položky skládající se z názvu úkolu a intervalu jak často se má úkol vykonat v sekundách."
   ]
  },
  {
   "cell_type": "code",
   "execution_count": 20,
   "metadata": {},
   "outputs": [],
   "source": [
    "TASKS = [\n",
    "    (\"A\", 0.3),\n",
    "    (\"B\", 0.1),\n",
    "    (\"C\", 0.5),\n",
    "]\n",
    "DURATION = 5"
   ]
  },
  {
   "cell_type": "code",
   "execution_count": 21,
   "metadata": {},
   "outputs": [
    {
     "name": "stdout",
     "output_type": "stream",
     "text": [
      "ABCBBABBBCABBBABBCBABBBABCBBABBBCABBBABBCBABBBABCBBABBBCABBBABBCBABBBABCBBB"
     ]
    }
   ],
   "source": [
    "# solution 1\n",
    "import time\n",
    "\n",
    "triggers = []\n",
    "labels = []\n",
    "for task in TASKS:\n",
    "    name = task[0]\n",
    "    interval = task[1]\n",
    "    steps = int(DURATION // interval)\n",
    "    for step in range(steps):\n",
    "        labels.append(name)\n",
    "        triggers.append(step * interval)\n",
    "\n",
    "schedule = []\n",
    "while triggers:\n",
    "    idx = triggers.index(min(triggers))\n",
    "    event = {\n",
    "        \"event\": labels[idx],\n",
    "        \"time\": triggers[idx],\n",
    "    }\n",
    "    schedule.append(event)\n",
    "    del triggers[idx]\n",
    "    del labels[idx]\n",
    "\n",
    "time_start = time.time()\n",
    "for item in schedule:\n",
    "    print(item[\"event\"], end=\"\")\n",
    "    time_elapsed = time.time() - time_start\n",
    "    time_delta = abs(item[\"time\"] - time_elapsed)\n",
    "    time.sleep(time_delta)"
   ]
  },
  {
   "cell_type": "code",
   "execution_count": 22,
   "metadata": {},
   "outputs": [
    {
     "name": "stdout",
     "output_type": "stream",
     "text": [
      "ABCBBABBBCABBBABBCBABBBABCBBABBBCABBBABBCBABBBABCBBABBBCABBBABBCBABBBABCBBB"
     ]
    }
   ],
   "source": [
    "# solution 2\n",
    "import time\n",
    "\n",
    "events = []\n",
    "time_start = time.time()  \n",
    "for task in TASKS:\n",
    "    events += [(task[0], n * task[1] + time_start) for n in range(int(DURATION // task[1]))]\n",
    "\n",
    "schedule = {}    \n",
    "for event in events:\n",
    "    schedule[event[1]] = event[0] if not event[1] in schedule else schedule[event[1]] + event[0]\n",
    "    \n",
    "for time_stamp in sorted(list(schedule.keys())):\n",
    "    print(schedule[time_stamp], end=\"\") \n",
    "    time_delta = max(0, time_stamp - time.time())\n",
    "    time.sleep(time_delta)"
   ]
  },
  {
   "cell_type": "markdown",
   "metadata": {},
   "source": [
    "## Obchodní cestující a jeho problém"
   ]
  },
  {
   "cell_type": "code",
   "execution_count": 23,
   "metadata": {},
   "outputs": [],
   "source": [
    "TOWNS = {\n",
    "    \"Praha\": (3, 6),\n",
    "    \"Brno\": (5, -1),\n",
    "    \"Plzeň\": (-3, 0),\n",
    "    \"Cheb\": (-10, 10),\n",
    "    \"Vídeň\": (-7, 8),\n",
    "    \"Berlin\": (1, -6),\n",
    "    \"Doksy\": (3, -7),\n",
    "    \"Jihlava\": (4, 0),\n",
    "    \"Benešov\": (-7, -10),\n",
    "    \"ORIGIN\": (-4, -3),\n",
    "}"
   ]
  },
  {
   "cell_type": "markdown",
   "metadata": {},
   "source": [
    "Kód pro změřený vzdálenosti libovolné trasy následuje."
   ]
  },
  {
   "cell_type": "code",
   "execution_count": 24,
   "metadata": {},
   "outputs": [
    {
     "name": "stdout",
     "output_type": "stream",
     "text": [
      "107.12132151434787 ['Benešov', 'Berlin', 'Brno', 'Cheb', 'Doksy', 'Jihlava', 'Plzeň', 'Praha', 'Vídeň']\n"
     ]
    }
   ],
   "source": [
    "names = sorted(list(TOWNS.keys()))\n",
    "names.remove(\"ORIGIN\")\n",
    "\n",
    "distance = 0\n",
    "location = TOWNS[\"ORIGIN\"]\n",
    "\n",
    "for stop in names + [\"ORIGIN\", ]:\n",
    "    new_location = TOWNS[stop]\n",
    "    distance += ((location[0] - new_location[0])**2 + (location[1] - new_location[1])**2)**(1/2.)\n",
    "    location = new_location\n",
    "\n",
    "print(distance, names)"
   ]
  },
  {
   "cell_type": "markdown",
   "metadata": {},
   "source": [
    "Kód vylepšený o použití komplexních čísel pro zrychlení výpočtu následuje."
   ]
  },
  {
   "cell_type": "code",
   "execution_count": 25,
   "metadata": {},
   "outputs": [
    {
     "name": "stdout",
     "output_type": "stream",
     "text": [
      "107.12132151434787 ['Benešov', 'Berlin', 'Brno', 'Cheb', 'Doksy', 'Jihlava', 'Plzeň', 'Praha', 'Vídeň']\n"
     ]
    }
   ],
   "source": [
    "towns = {key: complex(TOWNS[key][0], TOWNS[key][1])  for key in TOWNS.keys()}\n",
    "names = sorted(list(towns.keys()))\n",
    "names.remove(\"ORIGIN\")\n",
    "\n",
    "distance = 0\n",
    "location = towns[\"ORIGIN\"]\n",
    "\n",
    "for stop in names + [\"ORIGIN\", ]:\n",
    "    new_location = TOWNS[stop]\n",
    "    distance += abs(towns[stop] - location)\n",
    "    location = towns[stop]\n",
    "\n",
    "print(distance, names)"
   ]
  },
  {
   "cell_type": "markdown",
   "metadata": {},
   "source": [
    "Následuje kód, který najde nejlepš cestu prohledáním všech možných cest."
   ]
  },
  {
   "cell_type": "code",
   "execution_count": 26,
   "metadata": {},
   "outputs": [
    {
     "name": "stdout",
     "output_type": "stream",
     "text": [
      "Total paths:  362880\n",
      "Average distance:  109.61453799562858\n",
      "61.790067984922565 \t ('Benešov', 'Berlin', 'Doksy', 'Brno', 'Jihlava', 'Praha', 'Vídeň', 'Cheb', 'Plzeň')\n"
     ]
    }
   ],
   "source": [
    "import itertools\n",
    "\n",
    "towns = {key: complex(TOWNS[key][0], TOWNS[key][1])  for key in TOWNS.keys()}\n",
    "names = list(towns.keys())\n",
    "names.remove(\"ORIGIN\")\n",
    "\n",
    "best_distance = float(\"inf\")\n",
    "best_path = False\n",
    "\n",
    "paths = list(itertools.permutations(names))\n",
    "print(\"Total paths: \", len(paths))\n",
    "\n",
    "distances = []\n",
    "for path in paths:\n",
    "    distance = 0\n",
    "    location = towns[\"ORIGIN\"]\n",
    "    \n",
    "    for stop in list(path) + [\"ORIGIN\", ]:\n",
    "        distance += abs(towns[stop] - location)\n",
    "        location = towns[stop]\n",
    "\n",
    "    if best_distance > distance:\n",
    "        best_distance = distance\n",
    "        best_path = path    \n",
    "        \n",
    "    distances.append(distance)\n",
    "\n",
    "print(\"Average distance: \", sum(distances) / len(distances))    \n",
    "    \n",
    "print(best_distance, \"\\t\", best_path)"
   ]
  },
  {
   "cell_type": "markdown",
   "metadata": {},
   "source": [
    "Následuje kód, který prohledá jen náhodnou část možných tras."
   ]
  },
  {
   "cell_type": "code",
   "execution_count": 27,
   "metadata": {},
   "outputs": [
    {
     "name": "stdout",
     "output_type": "stream",
     "text": [
      "69.8484972785968 \t ['Berlin', 'Doksy', 'Brno', 'Jihlava', 'Praha', 'Vídeň', 'Cheb', 'Benešov', 'Plzeň']\n"
     ]
    }
   ],
   "source": [
    "import random\n",
    "\n",
    "towns = {key: complex(TOWNS[key][0], TOWNS[key][1])  for key in TOWNS.keys()}\n",
    "names = list(towns.keys())\n",
    "names.remove(\"ORIGIN\")\n",
    "\n",
    "best_distance = float(\"inf\")\n",
    "best_path = False\n",
    "\n",
    "for _ in range(5000):\n",
    "    path = random.sample(names, len(names))\n",
    "    distance = 0\n",
    "    location = towns[\"ORIGIN\"]\n",
    "    \n",
    "    for stop in path + [\"ORIGIN\", ]:\n",
    "        distance += abs(towns[stop] - location)\n",
    "        location = towns[stop]\n",
    "    \n",
    "    if best_distance > distance:\n",
    "        best_distance = distance\n",
    "        best_path = path\n",
    "\n",
    "print(best_distance, \"\\t\", best_path)"
   ]
  },
  {
   "cell_type": "code",
   "execution_count": null,
   "metadata": {},
   "outputs": [],
   "source": []
  }
 ],
 "metadata": {
  "kernelspec": {
   "display_name": "Python 3",
   "language": "python",
   "name": "python3"
  },
  "language_info": {
   "codemirror_mode": {
    "name": "ipython",
    "version": 3
   },
   "file_extension": ".py",
   "mimetype": "text/x-python",
   "name": "python",
   "nbconvert_exporter": "python",
   "pygments_lexer": "ipython3",
   "version": "3.6.7"
  }
 },
 "nbformat": 4,
 "nbformat_minor": 2
}
