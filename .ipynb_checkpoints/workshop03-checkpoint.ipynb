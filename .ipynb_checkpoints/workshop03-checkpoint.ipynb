{
 "cells": [
  {
   "cell_type": "code",
   "execution_count": 74,
   "metadata": {},
   "outputs": [],
   "source": [
    "import requests\n",
    "from bs4 import BeautifulSoup\n",
    "import time\n",
    "import random\n",
    "import os"
   ]
  },
  {
   "cell_type": "code",
   "execution_count": 52,
   "metadata": {},
   "outputs": [],
   "source": [
    "URL = \"https://en.wikipedia.org/wiki/Penguin\"\n",
    "\n",
    "r = requests.get(URL)"
   ]
  },
  {
   "cell_type": "code",
   "execution_count": 75,
   "metadata": {},
   "outputs": [],
   "source": [
    "def get_content_from_response(response):\n",
    "    \n",
    "    def handle_p(element):\n",
    "        if element.text == \"\\n\":\n",
    "            return []\n",
    "        for item in element.findAll(\"sup\"):\n",
    "            item.decompose() \n",
    "        clean_text = element.text.replace(\"\\n\", \"\")\n",
    "        return [(element.name, clean_text), ]\n",
    "\n",
    "    def handle_h(element):\n",
    "        return [(element.name, element.text), ]\n",
    "    \n",
    "    html = r.text\n",
    "    tree = BeautifulSoup(html, \"html.parser\")\n",
    "    main = tree.find(\"div\", {\"class\": \"mw-parser-output\"})\n",
    "    outcome = {\n",
    "        \"url\": response.url,\n",
    "        \"title\": tree.find(\"h1\").text,\n",
    "    }\n",
    "    \n",
    "    # content\n",
    "    content = []\n",
    "    for element in main.findAll(recursive=False):\n",
    "        if element.name == \"p\":\n",
    "            content += handle_p(element)\n",
    "        elif element.name.startswith(\"h\"):\n",
    "            content += handle_h(element)\n",
    "        elif element.name in [\"div\", \"span\", \"table\", \"ul\", \"ol\"]:\n",
    "            pass\n",
    "        else:\n",
    "            pass\n",
    "    outcome[\"content\"] = content\n",
    "    \n",
    "    # links\n",
    "    links = []\n",
    "    for link in main.findAll(\"a\"):\n",
    "        if \"href\" in link.attrs and not \":\" in link.attrs[\"href\"] and link.attrs[\"href\"].startswith(\"/wiki/\"):\n",
    "            links.append(link.attrs[\"href\"])\n",
    "    outcome[\"links\"] = links\n",
    "        \n",
    "    return outcome\n",
    "       \n",
    "       \n",
    "data = get_content_from_response(r)   "
   ]
  },
  {
   "cell_type": "code",
   "execution_count": null,
   "metadata": {},
   "outputs": [],
   "source": [
    "OUTPUT_DIR = \"output\"\n",
    "\n",
    "filename = data[\"title\"] + \".txt\"\n",
    "savepath = os.path.join(OUTPUT_DIR, filename)\n",
    "\n",
    "with open(savepath, \"w\") as f:\n",
    "    f.write(data[\"content\"])\n",
    "    "
   ]
  },
  {
   "cell_type": "code",
   "execution_count": 73,
   "metadata": {},
   "outputs": [
    {
     "name": "stdout",
     "output_type": "stream",
     "text": [
      "200 Penguin https://en.wikipedia.org/wiki/Penguin\n",
      "200 Penguin (disambiguation) https://en.wikipedia.org/wiki/Penguin_(disambiguation)\n",
      "200 Paleocene https://en.wikipedia.org/wiki/Paleocene\n",
      "200 Year https://en.wikipedia.org/wiki/Megaannum\n"
     ]
    }
   ],
   "source": [
    "HOST = \"https://en.wikipedia.org\"\n",
    "\n",
    "\n",
    "\n",
    "slugs = [\"/wiki/Penguin\", ]\n",
    "visited = []\n",
    "\n",
    "session = requests.session()\n",
    "\n",
    "\n",
    "idx = 0\n",
    "while slugs:\n",
    "    if not slugs[0] in visited:        \n",
    "        url = HOST + slugs[0]\n",
    "        visited.append(slugs[0])\n",
    "        r = session.get(url)\n",
    "        data = get_content_from_response(r)\n",
    "        slugs += data[\"links\"]\n",
    "        print(r.status_code, data[\"title\"], data[\"url\"])    \n",
    "    else:\n",
    "        print(\"XXX\", data[\"title\"], data[\"url\"])\n",
    "    \n",
    "    del slugs[0]\n",
    "    idx += 1\n",
    "    if idx > 3:\n",
    "        break\n",
    "\n",
    "        \n",
    "        "
   ]
  },
  {
   "cell_type": "code",
   "execution_count": null,
   "metadata": {},
   "outputs": [],
   "source": []
  }
 ],
 "metadata": {
  "kernelspec": {
   "display_name": "Python 3",
   "language": "python",
   "name": "python3"
  },
  "language_info": {
   "codemirror_mode": {
    "name": "ipython",
    "version": 3
   },
   "file_extension": ".py",
   "mimetype": "text/x-python",
   "name": "python",
   "nbconvert_exporter": "python",
   "pygments_lexer": "ipython3",
   "version": "3.6.7"
  }
 },
 "nbformat": 4,
 "nbformat_minor": 2
}
